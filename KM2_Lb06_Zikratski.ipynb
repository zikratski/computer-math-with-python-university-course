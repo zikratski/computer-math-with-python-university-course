{
 "cells": [
  {
   "cell_type": "markdown",
   "id": "377fc86a",
   "metadata": {},
   "source": [
    "# Лабораторная работа 6. Выравнивание списка, состоящего из итерируемых объектов. Рекурсивные функции"
   ]
  },
  {
   "cell_type": "code",
   "execution_count": 1,
   "id": "49764f56",
   "metadata": {},
   "outputs": [],
   "source": [
    "test = [1,2,(3,4),[1,[1,2,'str']]]"
   ]
  },
  {
   "cell_type": "code",
   "execution_count": 2,
   "id": "0ea4dea4",
   "metadata": {},
   "outputs": [],
   "source": [
    "def flatten_list_list(it):\n",
    "    if type(it) == dict:\n",
    "        result = []\n",
    "        for k,v in it.items():\n",
    "            result.extend(flatten_list_list([k,v]))\n",
    "        return result\n",
    "    elif hasattr(it,\"__iter__\") and  not isinstance(it,str):\n",
    "        result = []\n",
    "        for elem in it:\n",
    "            if hasattr(elem,\"__iter__\") and  not isinstance(elem,str):\n",
    "                result.extend(flatten_list_list(elem)) #добавляет целый спсок\n",
    "            else:\n",
    "                result.append(flatten_list_list(elem))\n",
    "\n",
    "        return result\n",
    "    else:\n",
    "        return it\n"
   ]
  },
  {
   "cell_type": "code",
   "execution_count": 3,
   "id": "5c50ae18",
   "metadata": {},
   "outputs": [
    {
     "data": {
      "text/plain": [
       "[1, 2, 3, 4, 1, 1, 2, 'str']"
      ]
     },
     "execution_count": 3,
     "metadata": {},
     "output_type": "execute_result"
    }
   ],
   "source": [
    "flatten_list_list(test)"
   ]
  },
  {
   "cell_type": "code",
   "execution_count": 4,
   "id": "fdb4812a",
   "metadata": {},
   "outputs": [],
   "source": [
    "test2 = [[[range(5)]]]"
   ]
  },
  {
   "cell_type": "code",
   "execution_count": 5,
   "id": "7da1b1fc",
   "metadata": {},
   "outputs": [
    {
     "data": {
      "text/plain": [
       "[0, 1, 2, 3, 4]"
      ]
     },
     "execution_count": 5,
     "metadata": {},
     "output_type": "execute_result"
    }
   ],
   "source": [
    "flatten_list_list(test2)"
   ]
  },
  {
   "cell_type": "code",
   "execution_count": 6,
   "id": "43d0f47c",
   "metadata": {},
   "outputs": [
    {
     "data": {
      "text/plain": [
       "True"
      ]
     },
     "execution_count": 6,
     "metadata": {},
     "output_type": "execute_result"
    }
   ],
   "source": [
    "hasattr(range(5),\"__iter__\")"
   ]
  },
  {
   "cell_type": "code",
   "execution_count": 7,
   "id": "7d7cd96b",
   "metadata": {},
   "outputs": [],
   "source": [
    "test3 = [{1: {2,3}, 4: 5}]"
   ]
  },
  {
   "cell_type": "code",
   "execution_count": 8,
   "id": "e25a3437",
   "metadata": {},
   "outputs": [
    {
     "data": {
      "text/plain": [
       "[1, 2, 3, 4, 5]"
      ]
     },
     "execution_count": 8,
     "metadata": {},
     "output_type": "execute_result"
    }
   ],
   "source": [
    "flatten_list_list(test3)"
   ]
  },
  {
   "cell_type": "code",
   "execution_count": 9,
   "id": "0aff3ff7",
   "metadata": {},
   "outputs": [],
   "source": [
    "def flatten_list_gen(it):\n",
    "    if type(it) == dict:\n",
    "        for k,v in it.items():\n",
    "            result = flatten_list_gen([k,v])\n",
    "            for i in result:\n",
    "                yield i\n",
    "    elif type(it) == str or not hasattr(it,\"__iter__\"):\n",
    "        yield it\n",
    "    else:\n",
    "        for i in it:\n",
    "            if hasattr(i,\"__iter__\") and  not isinstance(i,str):\n",
    "                yield from flatten_list_gen(i)\n",
    "            else:\n",
    "                yield i"
   ]
  },
  {
   "cell_type": "code",
   "execution_count": 10,
   "id": "53b56044",
   "metadata": {},
   "outputs": [
    {
     "data": {
      "text/plain": [
       "[1, 2, (3, 4), [1, [1, 2, 'str']]]"
      ]
     },
     "execution_count": 10,
     "metadata": {},
     "output_type": "execute_result"
    }
   ],
   "source": [
    "test"
   ]
  },
  {
   "cell_type": "code",
   "execution_count": 11,
   "id": "e219409b",
   "metadata": {},
   "outputs": [],
   "source": [
    "gen_list = flatten_list_gen(test)"
   ]
  },
  {
   "cell_type": "code",
   "execution_count": 12,
   "id": "c6c0f95b",
   "metadata": {},
   "outputs": [
    {
     "name": "stdout",
     "output_type": "stream",
     "text": [
      "[1, 2, 3, 4, 1, 1, 2, 'str']\n"
     ]
    }
   ],
   "source": [
    "print([i for i in gen_list])"
   ]
  },
  {
   "cell_type": "code",
   "execution_count": 13,
   "id": "712f18af",
   "metadata": {},
   "outputs": [],
   "source": [
    "gen_list2 = flatten_list_gen(3)"
   ]
  },
  {
   "cell_type": "code",
   "execution_count": 14,
   "id": "d4ac8ac6",
   "metadata": {},
   "outputs": [
    {
     "name": "stdout",
     "output_type": "stream",
     "text": [
      "<generator object flatten_list_gen at 0x000001A4969EDC40>\n"
     ]
    }
   ],
   "source": [
    "print(gen_list2)"
   ]
  },
  {
   "cell_type": "code",
   "execution_count": 15,
   "id": "487b9004",
   "metadata": {},
   "outputs": [
    {
     "name": "stdout",
     "output_type": "stream",
     "text": [
      "[3]\n"
     ]
    }
   ],
   "source": [
    "print([i for i in gen_list2])"
   ]
  },
  {
   "cell_type": "markdown",
   "id": "1613ae9a",
   "metadata": {},
   "source": [
    "## Этап 2. Выравнивание итерируемых объектов произвольного типа"
   ]
  },
  {
   "cell_type": "code",
   "execution_count": 16,
   "id": "c9a5a07f",
   "metadata": {},
   "outputs": [],
   "source": [
    "def flatten_list(it, gen=False):\n",
    "    if gen == False:\n",
    "        return flatten_list_list(it)\n",
    "    else:\n",
    "        return flatten_list_gen(it)\n",
    "        \n"
   ]
  },
  {
   "cell_type": "code",
   "execution_count": 17,
   "id": "e2db86e0",
   "metadata": {},
   "outputs": [],
   "source": [
    "a = flatten_list(test, gen=False)"
   ]
  },
  {
   "cell_type": "code",
   "execution_count": 18,
   "id": "47c68a17",
   "metadata": {},
   "outputs": [
    {
     "name": "stdout",
     "output_type": "stream",
     "text": [
      "[1, 2, 3, 4, 1, 1, 2, 'str']\n"
     ]
    }
   ],
   "source": [
    "print(a)"
   ]
  },
  {
   "cell_type": "code",
   "execution_count": 19,
   "id": "6bfc5067",
   "metadata": {},
   "outputs": [],
   "source": [
    "b = flatten_list(test, gen=True)"
   ]
  },
  {
   "cell_type": "code",
   "execution_count": 20,
   "id": "084527d4",
   "metadata": {},
   "outputs": [
    {
     "name": "stdout",
     "output_type": "stream",
     "text": [
      "<generator object flatten_list_gen at 0x000001A4969EE640>\n"
     ]
    }
   ],
   "source": [
    "print(b)"
   ]
  },
  {
   "cell_type": "code",
   "execution_count": 21,
   "id": "0705f493",
   "metadata": {},
   "outputs": [
    {
     "name": "stdout",
     "output_type": "stream",
     "text": [
      "[1, 2, 3, 4, 1, 1, 2, 'str']\n"
     ]
    }
   ],
   "source": [
    "print([i for i in b])"
   ]
  },
  {
   "cell_type": "code",
   "execution_count": 22,
   "id": "ed256631",
   "metadata": {},
   "outputs": [
    {
     "name": "stdout",
     "output_type": "stream",
     "text": [
      "[1, 2, 3, 4, 5]\n"
     ]
    }
   ],
   "source": [
    "print([i for i in flatten_list_gen(test3)])"
   ]
  },
  {
   "cell_type": "code",
   "execution_count": 23,
   "id": "9b99b2e7",
   "metadata": {
    "scrolled": true
   },
   "outputs": [
    {
     "data": {
      "text/plain": [
       "[{1: {2, 3}, 4: 5}]"
      ]
     },
     "execution_count": 23,
     "metadata": {},
     "output_type": "execute_result"
    }
   ],
   "source": [
    "test3"
   ]
  },
  {
   "cell_type": "code",
   "execution_count": 24,
   "id": "2f46f13d",
   "metadata": {},
   "outputs": [
    {
     "name": "stdout",
     "output_type": "stream",
     "text": [
      "[1, 2, 3, 4, 5]\n"
     ]
    }
   ],
   "source": [
    "print(flatten_list(test3,gen=False))"
   ]
  },
  {
   "cell_type": "code",
   "execution_count": 25,
   "id": "e312a418",
   "metadata": {},
   "outputs": [
    {
     "name": "stdout",
     "output_type": "stream",
     "text": [
      "1\n",
      "2\n",
      "3\n",
      "4\n",
      "5\n"
     ]
    }
   ],
   "source": [
    "for i in flatten_list(test3, gen=True):\n",
    "    print(i)"
   ]
  },
  {
   "cell_type": "code",
   "execution_count": 26,
   "id": "889f649d",
   "metadata": {},
   "outputs": [],
   "source": [
    "it_tuple = (((7),(8)),(9),10)\n"
   ]
  },
  {
   "cell_type": "code",
   "execution_count": 27,
   "id": "32cf1f72",
   "metadata": {},
   "outputs": [
    {
     "name": "stdout",
     "output_type": "stream",
     "text": [
      "[7, 8, 9, 10]\n"
     ]
    }
   ],
   "source": [
    "print([i for i in flatten_list(it_tuple,gen=True)])"
   ]
  },
  {
   "cell_type": "code",
   "execution_count": 28,
   "id": "c7c70f6a",
   "metadata": {},
   "outputs": [
    {
     "name": "stdout",
     "output_type": "stream",
     "text": [
      "[7, 8, 9, 10]\n"
     ]
    }
   ],
   "source": [
    "print(flatten_list(it_tuple,gen=False))"
   ]
  },
  {
   "cell_type": "code",
   "execution_count": 29,
   "id": "f1d0292e",
   "metadata": {},
   "outputs": [],
   "source": [
    "it_str = \"abcdefgh\""
   ]
  },
  {
   "cell_type": "code",
   "execution_count": 30,
   "id": "2d7011b8",
   "metadata": {},
   "outputs": [
    {
     "name": "stdout",
     "output_type": "stream",
     "text": [
      "['abcdefgh']\n"
     ]
    }
   ],
   "source": [
    "print([i for i in flatten_list(it_str,gen=True)])"
   ]
  },
  {
   "cell_type": "code",
   "execution_count": 31,
   "id": "de523486",
   "metadata": {},
   "outputs": [
    {
     "name": "stdout",
     "output_type": "stream",
     "text": [
      "abcdefgh\n"
     ]
    }
   ],
   "source": [
    "print(flatten_list(it_str,gen=False))"
   ]
  },
  {
   "cell_type": "code",
   "execution_count": 32,
   "id": "ff6c6b3d",
   "metadata": {},
   "outputs": [],
   "source": [
    "it_gen = ([i,i**2,i**3] for i in range(5))"
   ]
  },
  {
   "cell_type": "code",
   "execution_count": 33,
   "id": "65a21903",
   "metadata": {},
   "outputs": [
    {
     "name": "stdout",
     "output_type": "stream",
     "text": [
      "[0, 0, 0, 1, 1, 1, 2, 4, 8, 3, 9, 27, 4, 16, 64]\n"
     ]
    }
   ],
   "source": [
    "print([i for i in flatten_list(it_gen,gen=True)])"
   ]
  },
  {
   "cell_type": "code",
   "execution_count": 34,
   "id": "ec0cd9e1",
   "metadata": {},
   "outputs": [],
   "source": [
    "it_gen = ([i,i**2,i**3] for i in range(5))"
   ]
  },
  {
   "cell_type": "code",
   "execution_count": 35,
   "id": "17a67dcb",
   "metadata": {},
   "outputs": [
    {
     "name": "stdout",
     "output_type": "stream",
     "text": [
      "[0, 0, 0, 1, 1, 1, 2, 4, 8, 3, 9, 27, 4, 16, 64]\n"
     ]
    }
   ],
   "source": [
    "print(flatten_list(it_gen,gen=False))"
   ]
  },
  {
   "cell_type": "code",
   "execution_count": 36,
   "id": "e379b53d",
   "metadata": {},
   "outputs": [],
   "source": [
    "it_list = [[1],[2,[3]],[[[[[4]]]]],5,6,7]"
   ]
  },
  {
   "cell_type": "code",
   "execution_count": 37,
   "id": "4b3f3c73",
   "metadata": {},
   "outputs": [
    {
     "name": "stdout",
     "output_type": "stream",
     "text": [
      "[1, 2, 3, 4, 5, 6, 7]\n"
     ]
    }
   ],
   "source": [
    "print([i for i in flatten_list(it_list,gen=True)])"
   ]
  },
  {
   "cell_type": "code",
   "execution_count": 38,
   "id": "eea7b1b1",
   "metadata": {},
   "outputs": [
    {
     "name": "stdout",
     "output_type": "stream",
     "text": [
      "[1, 2, 3, 4, 5, 6, 7]\n"
     ]
    }
   ],
   "source": [
    "print(flatten_list(it_list,gen=False))"
   ]
  },
  {
   "cell_type": "markdown",
   "id": "1d2b1b8d",
   "metadata": {},
   "source": [
    "## Этап 3. Обработка циклических объектов списка и словаря"
   ]
  },
  {
   "cell_type": "code",
   "execution_count": 39,
   "id": "49b38dee",
   "metadata": {},
   "outputs": [],
   "source": [
    "it_list_cyclic = it_list[:]\n",
    "it_list_cyclic.append(it_list_cyclic)"
   ]
  },
  {
   "cell_type": "code",
   "execution_count": 40,
   "id": "3eab92a5",
   "metadata": {},
   "outputs": [
    {
     "data": {
      "text/plain": [
       "[[1], [2, [3]], [[[[[4]]]]], 5, 6, 7, [...]]"
      ]
     },
     "execution_count": 40,
     "metadata": {},
     "output_type": "execute_result"
    }
   ],
   "source": [
    "it_list_cyclic"
   ]
  },
  {
   "cell_type": "code",
   "execution_count": 41,
   "id": "36126a55",
   "metadata": {},
   "outputs": [],
   "source": [
    "def flatten_list_list(it):\n",
    "    if type(it) == dict:\n",
    "        result = []\n",
    "        for k,v in it.items():\n",
    "            result.extend(flatten_list_list([k,v]))\n",
    "        return result\n",
    "    elif hasattr(it,\"__iter__\") and  not isinstance(it,str):\n",
    "        result = []\n",
    "        for elem in it:\n",
    "            if elem == it:\n",
    "                raise ValueError(\"Cyclic list is found\")\n",
    "            if hasattr(elem,\"__iter__\") and  not isinstance(elem,str):\n",
    "                result.extend(flatten_list_list(elem))\n",
    "            else:\n",
    "                result.append(flatten_list_list(elem))\n",
    "\n",
    "        return result\n",
    "    else:\n",
    "        return it"
   ]
  },
  {
   "cell_type": "code",
   "execution_count": 42,
   "id": "2fa8a75b",
   "metadata": {},
   "outputs": [
    {
     "ename": "ValueError",
     "evalue": "Cyclic list is found",
     "output_type": "error",
     "traceback": [
      "\u001b[1;31m---------------------------------------------------------------------------\u001b[0m",
      "\u001b[1;31mValueError\u001b[0m                                Traceback (most recent call last)",
      "Cell \u001b[1;32mIn[42], line 1\u001b[0m\n\u001b[1;32m----> 1\u001b[0m \u001b[38;5;28mprint\u001b[39m(\u001b[43mflatten_list\u001b[49m\u001b[43m(\u001b[49m\u001b[43mit_list_cyclic\u001b[49m\u001b[43m,\u001b[49m\u001b[43mgen\u001b[49m\u001b[38;5;241;43m=\u001b[39;49m\u001b[38;5;28;43;01mFalse\u001b[39;49;00m\u001b[43m)\u001b[49m)\n",
      "Cell \u001b[1;32mIn[16], line 3\u001b[0m, in \u001b[0;36mflatten_list\u001b[1;34m(it, gen)\u001b[0m\n\u001b[0;32m      1\u001b[0m \u001b[38;5;28;01mdef\u001b[39;00m \u001b[38;5;21mflatten_list\u001b[39m(it, gen\u001b[38;5;241m=\u001b[39m\u001b[38;5;28;01mFalse\u001b[39;00m):\n\u001b[0;32m      2\u001b[0m     \u001b[38;5;28;01mif\u001b[39;00m gen \u001b[38;5;241m==\u001b[39m \u001b[38;5;28;01mFalse\u001b[39;00m:\n\u001b[1;32m----> 3\u001b[0m         \u001b[38;5;28;01mreturn\u001b[39;00m \u001b[43mflatten_list_list\u001b[49m\u001b[43m(\u001b[49m\u001b[43mit\u001b[49m\u001b[43m)\u001b[49m\n\u001b[0;32m      4\u001b[0m     \u001b[38;5;28;01melse\u001b[39;00m:\n\u001b[0;32m      5\u001b[0m         \u001b[38;5;28;01mreturn\u001b[39;00m flatten_list_gen(it)\n",
      "Cell \u001b[1;32mIn[41], line 11\u001b[0m, in \u001b[0;36mflatten_list_list\u001b[1;34m(it)\u001b[0m\n\u001b[0;32m      9\u001b[0m \u001b[38;5;28;01mfor\u001b[39;00m elem \u001b[38;5;129;01min\u001b[39;00m it:\n\u001b[0;32m     10\u001b[0m     \u001b[38;5;28;01mif\u001b[39;00m elem \u001b[38;5;241m==\u001b[39m it:\n\u001b[1;32m---> 11\u001b[0m         \u001b[38;5;28;01mraise\u001b[39;00m \u001b[38;5;167;01mValueError\u001b[39;00m(\u001b[38;5;124m\"\u001b[39m\u001b[38;5;124mCyclic list is found\u001b[39m\u001b[38;5;124m\"\u001b[39m)\n\u001b[0;32m     12\u001b[0m     \u001b[38;5;28;01mif\u001b[39;00m \u001b[38;5;28mhasattr\u001b[39m(elem,\u001b[38;5;124m\"\u001b[39m\u001b[38;5;124m__iter__\u001b[39m\u001b[38;5;124m\"\u001b[39m) \u001b[38;5;129;01mand\u001b[39;00m  \u001b[38;5;129;01mnot\u001b[39;00m \u001b[38;5;28misinstance\u001b[39m(elem,\u001b[38;5;28mstr\u001b[39m):\n\u001b[0;32m     13\u001b[0m         result\u001b[38;5;241m.\u001b[39mextend(flatten_list_list(elem))\n",
      "\u001b[1;31mValueError\u001b[0m: Cyclic list is found"
     ]
    }
   ],
   "source": [
    "print(flatten_list(it_list_cyclic,gen=False))"
   ]
  },
  {
   "cell_type": "code",
   "execution_count": null,
   "id": "9c0e189f",
   "metadata": {},
   "outputs": [],
   "source": [
    "def flatten_list_list(it):\n",
    "    try:\n",
    "        if type(it) == dict:\n",
    "            result = []\n",
    "            for k,v in it.items():\n",
    "                result.extend(flatten_list_list([k,v]))\n",
    "            return result\n",
    "        elif hasattr(it,\"__iter__\") and  not isinstance(it,str):\n",
    "            result = []\n",
    "            for elem in it:\n",
    "                if elem == it:\n",
    "                    raise ValueError(\"Cyclic list is found\")\n",
    "                if hasattr(elem,\"__iter__\") and  not isinstance(elem,str):\n",
    "                    result.extend(flatten_list_list(elem))\n",
    "                else:\n",
    "                    result.append(flatten_list_list(elem))\n",
    "\n",
    "            return result\n",
    "        else:/\n",
    "            return it\n",
    "    except ValueError as e:\n",
    "        return e"
   ]
  },
  {
   "cell_type": "code",
   "execution_count": null,
   "id": "70da7d15",
   "metadata": {},
   "outputs": [],
   "source": [
    "print(flatten_list(it_list_cyclic,gen=False))"
   ]
  },
  {
   "cell_type": "code",
   "execution_count": null,
   "id": "ac943ccc",
   "metadata": {},
   "outputs": [],
   "source": [
    "test = 2"
   ]
  },
  {
   "cell_type": "code",
   "execution_count": null,
   "id": "c328e150",
   "metadata": {},
   "outputs": [],
   "source": [
    "flatten_list_list(2)"
   ]
  },
  {
   "cell_type": "code",
   "execution_count": null,
   "id": "6a09852e",
   "metadata": {},
   "outputs": [],
   "source": [
    "test2 = {'sdf':[{2:5,7:6},10],5:13}"
   ]
  },
  {
   "cell_type": "code",
   "execution_count": null,
   "id": "e1255f6f",
   "metadata": {},
   "outputs": [],
   "source": [
    "flatten_list_list(test2)"
   ]
  },
  {
   "cell_type": "code",
   "execution_count": null,
   "id": "e9d2811a",
   "metadata": {},
   "outputs": [],
   "source": []
  },
  {
   "cell_type": "code",
   "execution_count": null,
   "id": "e1d003a0",
   "metadata": {},
   "outputs": [],
   "source": [
    "#доп написать генераторную функцию, бесконечно выводяющуу простые числа"
   ]
  },
  {
   "cell_type": "code",
   "execution_count": 3,
   "id": "ce8c5bae",
   "metadata": {},
   "outputs": [],
   "source": [
    "def is_prime(n):\n",
    "    if n < 2:\n",
    "        return False\n",
    "    for i in range(2, int(n**0.5) + 1):\n",
    "        if n % i == 0:\n",
    "            return False\n",
    "    return True"
   ]
  },
  {
   "cell_type": "code",
   "execution_count": 2,
   "id": "6ed1c224",
   "metadata": {},
   "outputs": [],
   "source": [
    "def prime_gen():\n",
    "    cur_num = 2\n",
    "    while True:\n",
    "        if len(str(cur_num)) > 20:\n",
    "            if is_prime2(cur_num):\n",
    "                yield cur_num \n",
    "        if is_prime(cur_num):\n",
    "            yield cur_num\n",
    "        cur_num += 1"
   ]
  },
  {
   "cell_type": "code",
   "execution_count": 5,
   "id": "38698645",
   "metadata": {},
   "outputs": [
    {
     "name": "stdout",
     "output_type": "stream",
     "text": [
      "1299709\n"
     ]
    }
   ],
   "source": [
    "generator = prime_gen()\n",
    "for _ in range(100000):\n",
    "    a = next(generator)\n",
    "print(a)\n"
   ]
  },
  {
   "cell_type": "code",
   "execution_count": 6,
   "id": "10257db6",
   "metadata": {},
   "outputs": [],
   "source": [
    "import time"
   ]
  },
  {
   "cell_type": "code",
   "execution_count": 7,
   "id": "e00bb5c0",
   "metadata": {},
   "outputs": [
    {
     "name": "stdout",
     "output_type": "stream",
     "text": [
      "0.0\n"
     ]
    }
   ],
   "source": [
    "s = time.time()\n",
    "a = next(generator)\n",
    "e = time.time()\n",
    "t = e-s\n",
    "print(t)"
   ]
  },
  {
   "cell_type": "code",
   "execution_count": 8,
   "id": "10ffcbfd",
   "metadata": {
    "scrolled": true
   },
   "outputs": [
    {
     "name": "stdout",
     "output_type": "stream",
     "text": [
      "1299743\n"
     ]
    }
   ],
   "source": [
    "print(next(generator))"
   ]
  },
  {
   "cell_type": "code",
   "execution_count": 9,
   "id": "e2396e7c",
   "metadata": {},
   "outputs": [
    {
     "name": "stdout",
     "output_type": "stream",
     "text": [
      "2659081\n"
     ]
    }
   ],
   "source": [
    "tarr = t\n",
    "while t < 0.02:\n",
    "    s = time.time()\n",
    "    a = next(generator)\n",
    "    e = time.time()\n",
    "    t = e-s\n",
    "    tarr += t\n",
    "    if tarr > 10:\n",
    "        break\n",
    "print(a)"
   ]
  },
  {
   "cell_type": "code",
   "execution_count": 56,
   "id": "e333b164",
   "metadata": {},
   "outputs": [
    {
     "data": {
      "text/plain": [
       "2692777"
      ]
     },
     "execution_count": 56,
     "metadata": {},
     "output_type": "execute_result"
    }
   ],
   "source": [
    "a"
   ]
  },
  {
   "cell_type": "code",
   "execution_count": 10,
   "id": "3097bbb1",
   "metadata": {},
   "outputs": [
    {
     "data": {
      "text/plain": [
       "2659091"
      ]
     },
     "execution_count": 10,
     "metadata": {},
     "output_type": "execute_result"
    }
   ],
   "source": [
    "next(generator)"
   ]
  },
  {
   "cell_type": "code",
   "execution_count": null,
   "id": "654c9cdc",
   "metadata": {},
   "outputs": [],
   "source": []
  },
  {
   "cell_type": "code",
   "execution_count": null,
   "id": "c35259cd",
   "metadata": {},
   "outputs": [],
   "source": []
  },
  {
   "cell_type": "code",
   "execution_count": null,
   "id": "8f1a1252",
   "metadata": {},
   "outputs": [],
   "source": []
  },
  {
   "cell_type": "code",
   "execution_count": null,
   "id": "39aefbff",
   "metadata": {},
   "outputs": [],
   "source": []
  },
  {
   "cell_type": "code",
   "execution_count": null,
   "id": "e8d654b5",
   "metadata": {},
   "outputs": [],
   "source": []
  },
  {
   "cell_type": "code",
   "execution_count": null,
   "id": "07f72492",
   "metadata": {},
   "outputs": [],
   "source": []
  },
  {
   "cell_type": "code",
   "execution_count": null,
   "id": "41e261b1",
   "metadata": {},
   "outputs": [],
   "source": []
  }
 ],
 "metadata": {
  "kernelspec": {
   "display_name": "Python 3 (ipykernel)",
   "language": "python",
   "name": "python3"
  },
  "language_info": {
   "codemirror_mode": {
    "name": "ipython",
    "version": 3
   },
   "file_extension": ".py",
   "mimetype": "text/x-python",
   "name": "python",
   "nbconvert_exporter": "python",
   "pygments_lexer": "ipython3",
   "version": "3.11.1"
  }
 },
 "nbformat": 4,
 "nbformat_minor": 5
}
