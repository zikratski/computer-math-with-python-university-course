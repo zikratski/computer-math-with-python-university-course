{
 "cells": [
  {
   "cell_type": "markdown",
   "id": "b69b4cab",
   "metadata": {},
   "source": [
    "# Лабораторная работа 1. Траектория движения тела. Графики функций"
   ]
  },
  {
   "cell_type": "markdown",
   "id": "434a83c4",
   "metadata": {},
   "source": [
    "#### Зикрацкий Антон Дмитриевич, 11.02.2023"
   ]
  },
  {
   "cell_type": "markdown",
   "id": "2ef14d55",
   "metadata": {},
   "source": [
    "## Задание 1.1. Задача о падении тела"
   ]
  },
  {
   "cell_type": "markdown",
   "id": "1c7d5226",
   "metadata": {},
   "source": [
    "**Постановка задачи**. Тело запущено под углом $\\alpha$ к горизонту на\n",
    "высоте $h_{start}$ и через время $t=T$ достигает другое тело, расположенное\n",
    "на расстоянии $s_{end}$ и высоте $h_{end}$.\n",
    "$$F=m(0,-g),$$\n",
    "где $m$- масса тела, $g$- ускорение свободного падения. Сопротивлением среды пренебрегаем.\n",
    "$$$$\n",
    "**Данные**. Выполните задание при следующих значениях параметров:$h_{start}=20$m, $T = 2$s, $s_{end}=50$m, $h_{end}=10$m,$g \\approx 9.807 m/s^2 $.Значение массы тела m не приводится, так как эта величина при построении математической модели не будет учитываться. Начальный момент времени движения тела полагаем равным нулю $t=0$.\n",
    "$$$$\n",
    "**Задания для выполнения**. $\\color{red}{Определите}$ функцию\n",
    "перемещения тела $(s_{x}(t),s_{y}(t))$ под действием силы тяжести, где\n",
    "$s_{x}(t)$ и $s_{y}(t)$ — горизонтальная и вертикальная составляющая\n",
    "положения тела в момент времени $t$, соответственно. $\\color{red}{Постройте}$ график траектории движения тела $(s_x(t),s_y(t))$ для $t \\in [0,T]$. $\\color{red}{Найдите}$ угол запуска тела $\\alpha$."
   ]
  },
  {
   "cell_type": "markdown",
   "id": "1ed0f0ff",
   "metadata": {},
   "source": [
    "### Этап 1. Импортирование модулей"
   ]
  },
  {
   "cell_type": "code",
   "execution_count": 1,
   "id": "426732fe",
   "metadata": {},
   "outputs": [],
   "source": [
    "import math"
   ]
  },
  {
   "cell_type": "code",
   "execution_count": 2,
   "id": "6e7a6925",
   "metadata": {},
   "outputs": [
    {
     "name": "stdout",
     "output_type": "stream",
     "text": [
      "Requirement already satisfied: numpy in c:\\users\\user\\appdata\\local\\programs\\python\\python311\\lib\\site-packages (1.24.2)\n"
     ]
    },
    {
     "name": "stderr",
     "output_type": "stream",
     "text": [
      "\n",
      "[notice] A new release of pip is available: 23.0.1 -> 23.1.2\n",
      "[notice] To update, run: python.exe -m pip install --upgrade pip\n"
     ]
    }
   ],
   "source": [
    "!pip install numpy"
   ]
  },
  {
   "cell_type": "code",
   "execution_count": 3,
   "id": "966f25b9",
   "metadata": {},
   "outputs": [],
   "source": [
    "import numpy as np"
   ]
  },
  {
   "cell_type": "code",
   "execution_count": 4,
   "id": "10a005cc",
   "metadata": {},
   "outputs": [],
   "source": [
    "#!pip install matplotlib"
   ]
  },
  {
   "cell_type": "code",
   "execution_count": 5,
   "id": "b467b9fa",
   "metadata": {},
   "outputs": [],
   "source": [
    "import matplotlib.pyplot as plt"
   ]
  },
  {
   "cell_type": "code",
   "execution_count": 6,
   "id": "357aabe4",
   "metadata": {},
   "outputs": [],
   "source": [
    "#!pip install scipy"
   ]
  },
  {
   "cell_type": "code",
   "execution_count": 7,
   "id": "75c15d08",
   "metadata": {},
   "outputs": [],
   "source": [
    "import scipy.constants as const"
   ]
  },
  {
   "cell_type": "code",
   "execution_count": 8,
   "id": "9fe008fe",
   "metadata": {},
   "outputs": [],
   "source": [
    "#!pip install sympy"
   ]
  },
  {
   "cell_type": "code",
   "execution_count": 9,
   "id": "9d312e26",
   "metadata": {},
   "outputs": [],
   "source": [
    "import sympy"
   ]
  },
  {
   "cell_type": "markdown",
   "id": "2f1cafd8",
   "metadata": {},
   "source": [
    "### Этап 2. Создание переменных"
   ]
  },
  {
   "cell_type": "code",
   "execution_count": 10,
   "id": "8c21423b",
   "metadata": {},
   "outputs": [],
   "source": [
    "h_start = 20 # вертикальная составляющая положения тела в момент запуска\n",
    "T = 2.0 # время полета\n",
    "s_end = 5.0e1 # горизонтальное перемещение тела за время полета\n",
    "h_end = 1.0E+1 # вертикальная составляющая положения тела в конечный момент движения"
   ]
  },
  {
   "cell_type": "code",
   "execution_count": 11,
   "id": "fa9711fb",
   "metadata": {},
   "outputs": [
    {
     "data": {
      "text/plain": [
       "50.0"
      ]
     },
     "execution_count": 11,
     "metadata": {},
     "output_type": "execute_result"
    }
   ],
   "source": [
    "s_end"
   ]
  },
  {
   "cell_type": "code",
   "execution_count": 12,
   "id": "0d99db6d",
   "metadata": {},
   "outputs": [
    {
     "data": {
      "text/plain": [
       "10.0"
      ]
     },
     "execution_count": 12,
     "metadata": {},
     "output_type": "execute_result"
    }
   ],
   "source": [
    "h_end"
   ]
  },
  {
   "cell_type": "code",
   "execution_count": 13,
   "id": "efa40bac",
   "metadata": {},
   "outputs": [
    {
     "data": {
      "text/plain": [
       "(int, float)"
      ]
     },
     "execution_count": 13,
     "metadata": {},
     "output_type": "execute_result"
    }
   ],
   "source": [
    "type(h_start), type(T)"
   ]
  },
  {
   "cell_type": "code",
   "execution_count": 14,
   "id": "bf47f3c0",
   "metadata": {},
   "outputs": [
    {
     "data": {
      "text/plain": [
       "2.0"
      ]
     },
     "execution_count": 14,
     "metadata": {},
     "output_type": "execute_result"
    }
   ],
   "source": [
    "h_start # переменная не отобразится\n",
    "T # переменная отобразится"
   ]
  },
  {
   "cell_type": "code",
   "execution_count": 15,
   "id": "9b8844d4",
   "metadata": {},
   "outputs": [
    {
     "name": "stdout",
     "output_type": "stream",
     "text": [
      "20 2.0\n"
     ]
    }
   ],
   "source": [
    "print(h_start, T)"
   ]
  },
  {
   "cell_type": "code",
   "execution_count": 16,
   "id": "76c881ff",
   "metadata": {},
   "outputs": [
    {
     "data": {
      "text/plain": [
       "(9.80665, 'm s^-2')"
      ]
     },
     "execution_count": 16,
     "metadata": {},
     "output_type": "execute_result"
    }
   ],
   "source": [
    "g = const.g\n",
    "g, const.unit('standard acceleration of gravity')"
   ]
  },
  {
   "cell_type": "code",
   "execution_count": 17,
   "id": "85d2e3b2",
   "metadata": {},
   "outputs": [
    {
     "data": {
      "text/plain": [
       "range(0, 200)"
      ]
     },
     "execution_count": 17,
     "metadata": {},
     "output_type": "execute_result"
    }
   ],
   "source": [
    "range(int(T/0.01))"
   ]
  },
  {
   "cell_type": "code",
   "execution_count": 18,
   "id": "4ff73a54",
   "metadata": {},
   "outputs": [],
   "source": [
    "step = 0.01\n",
    "t_list = [0 + i*step for i in range(int(T/step))]\n",
    "t_array = np.arange(0,T,step)  "
   ]
  },
  {
   "cell_type": "code",
   "execution_count": 19,
   "id": "80b9fe8f",
   "metadata": {},
   "outputs": [
    {
     "data": {
      "text/plain": [
       "(list, numpy.ndarray)"
      ]
     },
     "execution_count": 19,
     "metadata": {},
     "output_type": "execute_result"
    }
   ],
   "source": [
    "type(t_list), type(t_array)"
   ]
  },
  {
   "cell_type": "code",
   "execution_count": 20,
   "id": "54192dfe",
   "metadata": {
    "scrolled": true
   },
   "outputs": [
    {
     "data": {
      "text/plain": [
       "(200, 200)"
      ]
     },
     "execution_count": 20,
     "metadata": {},
     "output_type": "execute_result"
    }
   ],
   "source": [
    "len(t_list), len(t_array)"
   ]
  },
  {
   "cell_type": "code",
   "execution_count": 21,
   "id": "f60f4f23",
   "metadata": {},
   "outputs": [],
   "source": [
    "?range"
   ]
  },
  {
   "cell_type": "code",
   "execution_count": 22,
   "id": "28121128",
   "metadata": {},
   "outputs": [
    {
     "data": {
      "text/plain": [
       "201"
      ]
     },
     "execution_count": 22,
     "metadata": {},
     "output_type": "execute_result"
    }
   ],
   "source": [
    "t_list.append(t_list[-1] + step)\n",
    "len(t_list)"
   ]
  },
  {
   "cell_type": "markdown",
   "id": "f489cfa5",
   "metadata": {},
   "source": [
    "### Этап 3. Определение функции перемещения и нахождение угла запуска тела"
   ]
  },
  {
   "cell_type": "code",
   "execution_count": 23,
   "id": "089ed984",
   "metadata": {},
   "outputs": [
    {
     "data": {
      "text/plain": [
       "25.0"
      ]
     },
     "execution_count": 23,
     "metadata": {},
     "output_type": "execute_result"
    }
   ],
   "source": [
    "v0_x = s_end/T\n",
    "v0_x "
   ]
  },
  {
   "cell_type": "code",
   "execution_count": 24,
   "id": "bfbd5d5b",
   "metadata": {},
   "outputs": [
    {
     "data": {
      "text/plain": [
       "4.806649999999999"
      ]
     },
     "execution_count": 24,
     "metadata": {},
     "output_type": "execute_result"
    }
   ],
   "source": [
    "v0_y = (h_end-h_start+g/2*T**2)/T\n",
    "v0_y"
   ]
  },
  {
   "cell_type": "code",
   "execution_count": 25,
   "id": "fd7e0c53",
   "metadata": {},
   "outputs": [
    {
     "data": {
      "text/plain": [
       "(0.1899480821870468, 10.883223435921874)"
      ]
     },
     "execution_count": 25,
     "metadata": {},
     "output_type": "execute_result"
    }
   ],
   "source": [
    "alpha = math.atan(v0_y/v0_x)\n",
    "alpha, math.degrees(alpha) # угол в радианах и градусах"
   ]
  },
  {
   "cell_type": "code",
   "execution_count": 26,
   "id": "4be76be9",
   "metadata": {},
   "outputs": [
    {
     "data": {
      "text/plain": [
       "'s_x(t) = 20 + 4.806649999999999 t - 9.80665/2*t²'"
      ]
     },
     "execution_count": 26,
     "metadata": {},
     "output_type": "execute_result"
    }
   ],
   "source": [
    "f\"s_x(t) = {h_start} + {v0_y} t - {g}/2*t\\N{superscript two}\""
   ]
  },
  {
   "cell_type": "code",
   "execution_count": 27,
   "id": "4782edba",
   "metadata": {},
   "outputs": [
    {
     "data": {
      "text/plain": [
       "'s_y(t) = 25.0 t'"
      ]
     },
     "execution_count": 27,
     "metadata": {},
     "output_type": "execute_result"
    }
   ],
   "source": [
    "f\"s_y(t) = {v0_x} t\""
   ]
  },
  {
   "cell_type": "markdown",
   "id": "4cfb50f1",
   "metadata": {},
   "source": [
    "### Этап 4. Построение графика траектории движения тела"
   ]
  },
  {
   "cell_type": "code",
   "execution_count": 28,
   "id": "f28bb61d",
   "metadata": {},
   "outputs": [],
   "source": [
    "t_list, t_array; # символ ; в конце выражения предотвращает вывод результата выполнения ячейки кода "
   ]
  },
  {
   "cell_type": "code",
   "execution_count": 29,
   "id": "7f51a215",
   "metadata": {},
   "outputs": [],
   "source": [
    "s_x_list = [v0_x*t for t in t_list]\n",
    "s_y_list = [h_start+v0_y*t-g*t**2/2 for t in t_list]"
   ]
  },
  {
   "cell_type": "code",
   "execution_count": 30,
   "id": "23875cf1",
   "metadata": {},
   "outputs": [],
   "source": [
    "s_x_array = v0_x*t_array\n",
    "s_y_array = h_start+v0_y*t_array-g*t_array**2/2"
   ]
  },
  {
   "cell_type": "code",
   "execution_count": 31,
   "id": "f1e9be37",
   "metadata": {},
   "outputs": [
    {
     "data": {
      "image/png": "[encoded data removed]",
      "text/plain": [
       "<Figure size 640x480 with 1 Axes>"
      ]
     },
     "metadata": {},
     "output_type": "display_data"
    }
   ],
   "source": [
    "plt.figure() #можно и без этого, но для систематичности удобнее\n",
    "plt.plot(s_x_list,s_y_list,'b-',lw=2) #lw - толщина\n",
    "plt.title('Вертикальное перемещение тела')\n",
    "plt.xlabel('x (m)'); plt.ylabel('y (m)') # символ ; позволяет записывать несколько выражений в одной строке\n",
    "plt.axis([0, s_end, 0, h_end+15]); #задаем координаты рамок"
   ]
  },
  {
   "cell_type": "code",
   "execution_count": 33,
   "id": "f506d421",
   "metadata": {},
   "outputs": [
    {
     "data": {
      "image/png": "[encoded data removed]",
      "text/plain": [
       "<Figure size 640x480 with 1 Axes>"
      ]
     },
     "metadata": {},
     "output_type": "display_data"
    }
   ],
   "source": [
    "plt.figure()\n",
    "plt.plot(s_x_array,s_y_array,color='green',lw=3)\n",
    "plt.title('Вертикальное перемещение тела')\n",
    "plt.xlabel('x (m)'); plt.ylabel('y (m)')\n",
    "\n",
    "# альтернативный синтаксис для установки пределов по осям\n",
    "plt.xlim(0, s_end)\n",
    "plt.ylim(0, h_end+15);"
   ]
  },
  {
   "cell_type": "markdown",
   "id": "61326e04",
   "metadata": {},
   "source": [
    "## Задание 1.2. Момент времени падения тела"
   ]
  },
  {
   "cell_type": "markdown",
   "id": "04b43690",
   "metadata": {},
   "source": [
    "### Точное решение"
   ]
  },
  {
   "cell_type": "code",
   "execution_count": 19,
   "id": "def21fc5",
   "metadata": {},
   "outputs": [],
   "source": [
    " ?sympy.solve"
   ]
  },
  {
   "cell_type": "code",
   "execution_count": 20,
   "id": "0091489b",
   "metadata": {
    "scrolled": true
   },
   "outputs": [
    {
     "data": {
      "text/plain": [
       "[-1.58810350289582, 2.56838728991789]"
      ]
     },
     "execution_count": 20,
     "metadata": {},
     "output_type": "execute_result"
    }
   ],
   "source": [
    "t = sympy.symbols('t')\n",
    "result = sympy.solve(h_start+v0_y*t-g*t**2/2, t) #решаем, уравнение по у(когда = 0), относительно t\n",
    "result #нашли два корня уравнения, выбираем положительный(т.к. время неотрицательное)"
   ]
  },
  {
   "cell_type": "code",
   "execution_count": 21,
   "id": "2aa1d5dc",
   "metadata": {},
   "outputs": [
    {
     "data": {
      "text/latex": [
       "$\\displaystyle 2.56838728991789$"
      ],
      "text/plain": [
       "2.56838728991789"
      ]
     },
     "execution_count": 21,
     "metadata": {},
     "output_type": "execute_result"
    }
   ],
   "source": [
    "t_star_exact = result[-1]\n",
    "t_star_exact"
   ]
  },
  {
   "cell_type": "markdown",
   "id": "02c70525",
   "metadata": {},
   "source": [
    "### *ДОП*"
   ]
  },
  {
   "cell_type": "code",
   "execution_count": 45,
   "id": "3b81c1f9",
   "metadata": {},
   "outputs": [],
   "source": [
    "step = 0.01\n",
    "t_ar = np.arange(0,t_star_exact,step)  "
   ]
  },
  {
   "cell_type": "code",
   "execution_count": 60,
   "id": "fa7b8460",
   "metadata": {},
   "outputs": [],
   "source": [
    "s_x_ar = v0_x*t_ar\n",
    "s_y_ar = h_start+v0_y*t_ar-g*t_ar**2/2"
   ]
  },
  {
   "cell_type": "code",
   "execution_count": 26,
   "id": "fafc76c8",
   "metadata": {},
   "outputs": [],
   "source": [
    "x_end = np.array([v0_x*t_star_exact])\n",
    "y_end = np.array([0])"
   ]
  },
  {
   "cell_type": "code",
   "execution_count": 85,
   "id": "39535fef",
   "metadata": {},
   "outputs": [
    {
     "data": {
      "image/png": "[encoded data removed]",
      "text/plain": [
       "<Figure size 640x480 with 1 Axes>"
      ]
     },
     "metadata": {},
     "output_type": "display_data"
    }
   ],
   "source": [
    "plt.figure()\n",
    "plt.plot(s_x_ar,s_y_ar,color='green',lw=3)\n",
    "plt.title('Вертикальное перемещение тела до падения')\n",
    "plt.xlabel('x (m)'); plt.ylabel('y (m)')\n",
    "\n",
    "plt.plot(x_end, y_end, marker=\"o\", markersize=15, markerfacecolor=\"yellow\")\n",
    "\n",
    "plt.xlim(0, 70)\n",
    "plt.ylim(0, h_end+15);"
   ]
  },
  {
   "cell_type": "markdown",
   "id": "9cadd3ed",
   "metadata": {},
   "source": [
    "### Приближенное решение"
   ]
  },
  {
   "cell_type": "code",
   "execution_count": 13,
   "id": "492876eb",
   "metadata": {},
   "outputs": [],
   "source": [
    "t_arr = np.arange(0,T+1,step) #массив t"
   ]
  },
  {
   "cell_type": "code",
   "execution_count": 14,
   "id": "93255e25",
   "metadata": {},
   "outputs": [],
   "source": [
    "s_y = h_start+v0_y*t_arr-g*t_arr**2/2 #координаты по y относительно t"
   ]
  },
  {
   "cell_type": "code",
   "execution_count": 15,
   "id": "ad19d6ef",
   "metadata": {},
   "outputs": [
    {
     "data": {
      "text/plain": [
       "256"
      ]
     },
     "execution_count": 15,
     "metadata": {},
     "output_type": "execute_result"
    }
   ],
   "source": [
    "for k in range(len(s_y)): #пробегаем все индексы  элементов s_y \n",
    "    if s_y[k]*s_y[k+1]<0 : #находим индекс, когда значения меняют знак\n",
    "        break\n",
    "k"
   ]
  },
  {
   "cell_type": "markdown",
   "id": "2d62530d",
   "metadata": {},
   "source": [
    "В кратце нам нужно по координатам(по значению y и времени) в k и k+1 найти момент времени t*, в котором y = 0"
   ]
  },
  {
   "cell_type": "markdown",
   "id": "6e90a2e8",
   "metadata": {},
   "source": [
    "**Формула линейной интерполяции**\n",
    "(https://ru.wikipedia.org/wiki/%D0%9B%D0%B8%D0%BD%D0%B5%D0%B9%D0%BD%D0%B0%D1%8F_%D0%B8%D0%BD%D1%82%D0%B5%D1%80%D0%BF%D0%BE%D0%BB%D1%8F%D1%86%D0%B8%D1%8F):\n",
    "$$f(x)=f(x_0)+\\frac{f(x_1) - f(x_0)}{x_1 - x_0}(x-x_0),$$\n",
    "где в нашем случае $x_0 = t[k], x_1 = t[k+1], f(x_0) = s_y[k], f(x_1) = s_y[k+1]; x = t^*, f(x) = f(t^*) = 0$"
   ]
  },
  {
   "cell_type": "code",
   "execution_count": 16,
   "id": "478f8038",
   "metadata": {},
   "outputs": [],
   "source": [
    "t2 = sympy.symbols('t2')\n",
    "result2 = sympy.solve(s_y[k]+((s_y[k+1]-s_y[k])/(t_arr[k+1]-t_arr[k]))*(t2-t_arr[k]),t2)"
   ]
  },
  {
   "cell_type": "code",
   "execution_count": 30,
   "id": "8fb427de",
   "metadata": {},
   "outputs": [
    {
     "data": {
      "text/latex": [
       "$\\displaystyle 2.56838403035355$"
      ],
      "text/plain": [
       "2.56838403035355"
      ]
     },
     "execution_count": 30,
     "metadata": {},
     "output_type": "execute_result"
    }
   ],
   "source": [
    "t_star_exact2 = result2[0]\n",
    "t_star_exact2"
   ]
  },
  {
   "cell_type": "code",
   "execution_count": 31,
   "id": "8177aa3a",
   "metadata": {},
   "outputs": [
    {
     "data": {
      "text/latex": [
       "$\\displaystyle 3.25956434510388 \\cdot 10^{-6}$"
      ],
      "text/plain": [
       "3.25956434510388e-6"
      ]
     },
     "execution_count": 31,
     "metadata": {},
     "output_type": "execute_result"
    }
   ],
   "source": [
    "abs(t_star_exact2-t_star_exact) #погрешность между точным и примерным решением"
   ]
  },
  {
   "cell_type": "markdown",
   "id": "0cab6ae4",
   "metadata": {},
   "source": [
    "### *ДОП - коническая винтовая линия*"
   ]
  },
  {
   "cell_type": "code",
   "execution_count": 23,
   "id": "04e2cec0",
   "metadata": {},
   "outputs": [
    {
     "data": {
      "text/plain": [
       "64.0"
      ]
     },
     "execution_count": 23,
     "metadata": {},
     "output_type": "execute_result"
    }
   ],
   "source": [
    "s_x = v0_x*t_arr\n",
    "s_x[k]"
   ]
  },
  {
   "cell_type": "code",
   "execution_count": 29,
   "id": "ff7a0f77",
   "metadata": {},
   "outputs": [
    {
     "data": {
      "text/plain": [
       "64.0"
      ]
     },
     "execution_count": 29,
     "metadata": {},
     "output_type": "execute_result"
    }
   ],
   "source": [
    "sk = np.array([s_x[k],s_x[k+1]])\n",
    "sy = np.array([s_y[k],s_y[k+1]])\n",
    "sk[0]"
   ]
  },
  {
   "cell_type": "code",
   "execution_count": 32,
   "id": "80bc3668",
   "metadata": {},
   "outputs": [],
   "source": [
    "x_end2 = np.array([v0_x*t_star_exact2])\n",
    "y_end2 = np.array([0])"
   ]
  },
  {
   "cell_type": "code",
   "execution_count": 34,
   "id": "01f02c9b",
   "metadata": {},
   "outputs": [
    {
     "data": {
      "text/plain": [
       "(-0.3730866874999954, 0.23733553000000285)"
      ]
     },
     "execution_count": 34,
     "metadata": {},
     "output_type": "execute_result"
    },
    {
     "data": {
      "image/png": "[encoded data removed]",
      "text/plain": [
       "<Figure size 640x480 with 1 Axes>"
      ]
     },
     "metadata": {},
     "output_type": "display_data"
    }
   ],
   "source": [
    "plt.figure()\n",
    "plt.plot(s_x,s_y,color='green',lw=2) #обычная наша функция\n",
    "sk[1]\n",
    "plt.plot(sk,sy, '-',color='red',lw=2) #прямая, соединяющая две тчоки меняющие знак\n",
    "plt.plot([0,65], [0,0], '-',color='black',lw=1) #просто ось ox\n",
    "plt.plot(sk[0], sy[0], marker=\"o\", markersize=10, markerfacecolor=\"red\") #верхняя точка\n",
    "plt.plot(sk[1], sy[1], marker=\"o\", markersize=10, markerfacecolor=\"red\") #нижняя точка\n",
    "plt.plot(x_end2, y_end2, marker=\"o\", markersize=7, markerfacecolor=\"yellow\") #точка пересечения прямой и ox\n",
    "plt.xlabel('x (m)'); plt.ylabel('y (m)')\n",
    "plt.xlim(s_x[k-1], s_x[k+2])\n",
    "plt.ylim(-s_y[k-1], -s_y[k+2])"
   ]
  },
  {
   "cell_type": "markdown",
   "id": "eaf17d49",
   "metadata": {},
   "source": [
    "## Задание 1.3. Графики функций"
   ]
  },
  {
   "cell_type": "markdown",
   "id": "e73c546d",
   "metadata": {},
   "source": [
    "### Вариант 2"
   ]
  },
  {
   "cell_type": "markdown",
   "id": "2723b98a",
   "metadata": {},
   "source": [
    "a) Роза $\\rho = a\\sin (\\frac{m}{n}\\varphi , a \\in R ,m,n )$ - натуральные нечетные $m\\neq n $"
   ]
  },
  {
   "cell_type": "code",
   "execution_count": null,
   "id": "874a603c",
   "metadata": {},
   "outputs": [],
   "source": [
    "phi_ar = np.arange(-np.pi/2, np.pi/2, 0.05)\n",
    "phi_list = phi_ar.tolist() #создаем list чтобы было удобнее"
   ]
  },
  {
   "cell_type": "code",
   "execution_count": null,
   "id": "adaeaf03",
   "metadata": {},
   "outputs": [],
   "source": [
    "a = float(input(\"Параметр a, a - действительное число: \"))\n",
    "m = int(input(\"Параметр m, m - натуральное нечетное число: \"))\n",
    "n = int(input(\"Параметр n, n - натуральное нечетное число, не равное m: \"))\n",
    "\n",
    "rho_list = [a*math.sin((m/n)*ph) for ph in phi_list] \n",
    "rho_ar = np.array(rho_list)\n",
    "#rho_ar = abs(np.array(rho_list))\n",
    "\n",
    "\n",
    "\n",
    "plt.figure()\n",
    "plt.axes(projection='polar')\n",
    "plt.plot(phi_ar,rho_ar)\n",
    "#plt.plot(phi_ar+ (rho_ar<0)*np.pi,abs(rho_ar),'r.')"
   ]
  },
  {
   "cell_type": "markdown",
   "id": "3320e011",
   "metadata": {},
   "source": [
    "б)$x = \\sqrt{1-t^2}, y = \\tan{\\sqrt{1+t}}$"
   ]
  },
  {
   "cell_type": "code",
   "execution_count": null,
   "id": "90db0a13",
   "metadata": {},
   "outputs": [],
   "source": [
    "step = 0.01\n",
    "t_par = np.arange(-1, 1, step) #все возможные t, вход.в обл.опр. x"
   ]
  },
  {
   "cell_type": "code",
   "execution_count": null,
   "id": "cb9a94d0",
   "metadata": {},
   "outputs": [],
   "source": [
    "x_t_ar = [math.sqrt(1-t**2) for t in t_par]"
   ]
  },
  {
   "cell_type": "code",
   "execution_count": null,
   "id": "5c8a4f48",
   "metadata": {},
   "outputs": [],
   "source": [
    "y_t_ar = [math.tan(math.sqrt(1+t)) for t in t_par]"
   ]
  },
  {
   "cell_type": "code",
   "execution_count": null,
   "id": "024a7d09",
   "metadata": {},
   "outputs": [],
   "source": [
    "plt.figure() \n",
    "plt.plot(x_t_ar,y_t_ar,'b-',lw=2) \n",
    "plt.xlabel('x'); plt.ylabel('y') \n",
    "plt.axis([x_t_ar[0]-0.1, x_t_ar[-1]+1, y_t_ar[0]-1, y_t_ar[-1]+1]); "
   ]
  },
  {
   "cell_type": "markdown",
   "id": "84e20677",
   "metadata": {},
   "source": [
    "## Задание 1.4. Секущая и касательная к графику функции"
   ]
  },
  {
   "cell_type": "markdown",
   "id": "10533a96",
   "metadata": {},
   "source": [
    "### Секущая"
   ]
  },
  {
   "cell_type": "code",
   "execution_count": 113,
   "id": "01b1fac1",
   "metadata": {},
   "outputs": [
    {
     "data": {
      "text/plain": [
       "array([ 0., 20.])"
      ]
     },
     "execution_count": 113,
     "metadata": {},
     "output_type": "execute_result"
    }
   ],
   "source": [
    "p_start = np.array([s_x_array[0],s_y_array[0]]) #координаты начальной точки как массив(так должно быть удобнее)\n",
    "p_start"
   ]
  },
  {
   "cell_type": "code",
   "execution_count": 114,
   "id": "beb67bc0",
   "metadata": {},
   "outputs": [
    {
     "data": {
      "text/plain": [
       "array([49.75      , 10.14757617])"
      ]
     },
     "execution_count": 114,
     "metadata": {},
     "output_type": "execute_result"
    }
   ],
   "source": [
    "p_end = np.array([s_x_array[-1],s_y_array[-1]]) \n",
    "p_end"
   ]
  },
  {
   "cell_type": "code",
   "execution_count": 115,
   "id": "626e1910",
   "metadata": {},
   "outputs": [
    {
     "data": {
      "text/plain": [
       "array([49.75      , -9.85242383])"
      ]
     },
     "execution_count": 115,
     "metadata": {},
     "output_type": "execute_result"
    }
   ],
   "source": [
    "a = p_end-p_start #вектор\n",
    "a"
   ]
  },
  {
   "cell_type": "code",
   "execution_count": 116,
   "id": "7368e191",
   "metadata": {},
   "outputs": [
    {
     "data": {
      "text/plain": [
       "array([[-99.5       ,  39.70484767],\n",
       "       [ 99.5       ,   0.29515233]])"
      ]
     },
     "execution_count": 116,
     "metadata": {},
     "output_type": "execute_result"
    }
   ],
   "source": [
    "p = [p_start + a*t for t in [-2, 2]] #список массивов, состоящих из точки, принадлежащей прямой\n",
    "p = np.array(p) #делаем из списка массивов массив(двумерный массив, матрицу)\n",
    "p"
   ]
  },
  {
   "cell_type": "code",
   "execution_count": 117,
   "id": "2d26ea5a",
   "metadata": {},
   "outputs": [
    {
     "data": {
      "text/plain": [
       "(-10.0, 60.0, 0.0, 25.0)"
      ]
     },
     "execution_count": 117,
     "metadata": {},
     "output_type": "execute_result"
    },
    {
     "data": {
      "image/png": "[encoded data removed]",
      "text/plain": [
       "<Figure size 640x480 with 1 Axes>"
      ]
     },
     "metadata": {},
     "output_type": "display_data"
    }
   ],
   "source": [
    "fig = plt.figure()\n",
    "plt.plot(s_x_array,s_y_array,'b-',lw=5)\n",
    "plt.plot(p[:,0],p[:,1],'--',color='red',lw=2) #p - матрица, поэтому для x используем 1 элемент каждл\n",
    "plt.xlabel('x (m)'); plt.ylabel('y (m)')\n",
    "\n",
    "plt.axis([-10, s_end+10, 0, h_end+15])"
   ]
  },
  {
   "cell_type": "markdown",
   "id": "a7dd5543",
   "metadata": {},
   "source": [
    "### Касательная"
   ]
  },
  {
   "cell_type": "code",
   "execution_count": 144,
   "id": "ea06f548",
   "metadata": {},
   "outputs": [
    {
     "data": {
      "text/plain": [
       "[-10, 25.0]"
      ]
     },
     "execution_count": 144,
     "metadata": {},
     "output_type": "execute_result"
    }
   ],
   "source": [
    "x_set = [x for x in [-10,h_end+15]]\n",
    "x_set"
   ]
  },
  {
   "cell_type": "code",
   "execution_count": 145,
   "id": "25f6ca00",
   "metadata": {},
   "outputs": [
    {
     "data": {
      "text/plain": [
       "[18.07734, 24.806649999999998]"
      ]
     },
     "execution_count": 145,
     "metadata": {},
     "output_type": "execute_result"
    }
   ],
   "source": [
    "y_set = [math.tan(alpha)*(x-s_x_array[0])+s_y_array[0] for x in x_set]\n",
    "y_set"
   ]
  },
  {
   "cell_type": "code",
   "execution_count": 146,
   "id": "50901a85",
   "metadata": {},
   "outputs": [
    {
     "data": {
      "text/plain": [
       "(-10.0, 60.0, 0.0, 25.0)"
      ]
     },
     "execution_count": 146,
     "metadata": {},
     "output_type": "execute_result"
    },
    {
     "data": {
      "image/png": "[encoded data removed]",
      "text/plain": [
       "<Figure size 640x480 with 1 Axes>"
      ]
     },
     "metadata": {},
     "output_type": "display_data"
    }
   ],
   "source": [
    "fig = plt.figure()\n",
    "plt.plot(s_x_array,s_y_array,'b-',lw=5)\n",
    "plt.plot(p[:,0],p[:,1],'--',color='red',lw=2)\n",
    "plt.plot(x_set,y_set,'--',color='green',lw=3)\n",
    "plt.xlabel('x (m)'); plt.ylabel('y (m)')\n",
    "\n",
    "plt.axis([-10, s_end+10, 0, h_end+15])"
   ]
  },
  {
   "cell_type": "markdown",
   "id": "4ed6815b",
   "metadata": {},
   "source": [
    "### *ДОП*"
   ]
  },
  {
   "cell_type": "code",
   "execution_count": 35,
   "id": "94f21066",
   "metadata": {},
   "outputs": [
    {
     "data": {
      "text/plain": [
       "array([0.000e+00, 1.000e-02, 2.000e-02, ..., 1.254e+01, 1.255e+01,\n",
       "       1.256e+01])"
      ]
     },
     "execution_count": 35,
     "metadata": {},
     "output_type": "execute_result"
    }
   ],
   "source": [
    "t_cur = np.arange(0, 4*math.pi, step)\n",
    "t_cur"
   ]
  },
  {
   "cell_type": "code",
   "execution_count": 37,
   "id": "1e143a28",
   "metadata": {},
   "outputs": [
    {
     "name": "stdout",
     "output_type": "stream",
     "text": [
      "Параметр a: 10\n",
      "Параметр b: 2\n"
     ]
    },
    {
     "data": {
      "text/plain": [
       "[<mpl_toolkits.mplot3d.art3d.Line3D at 0x2c1f83cfd50>]"
      ]
     },
     "execution_count": 37,
     "metadata": {},
     "output_type": "execute_result"
    },
    {
     "data": {
      "image/png": "[encoded data removed]",
      "text/plain": [
       "<Figure size 640x480 with 1 Axes>"
      ]
     },
     "metadata": {},
     "output_type": "display_data"
    }
   ],
   "source": [
    "a = float(input(\"Параметр a: \"))\n",
    "b = float(input(\"Параметр b: \"))\n",
    "\n",
    "\n",
    "\n",
    "x_cur = np.array([a*t*math.cos(t) for t in t_cur])\n",
    "y_cur = np.array([a*t*math.sin(t) for t in t_cur])\n",
    "z_cur = b*t_cur\n",
    "\n",
    "plt.figure()\n",
    "plt.axes(projection='3d')\n",
    "plt.plot(x_cur, y_cur, z_cur, label='parametric curve')"
   ]
  },
  {
   "cell_type": "code",
   "execution_count": 1,
   "id": "f745ca25",
   "metadata": {},
   "outputs": [
    {
     "ename": "NameError",
     "evalue": "name 'np' is not defined",
     "output_type": "error",
     "traceback": [
      "\u001b[1;31m---------------------------------------------------------------------------\u001b[0m",
      "\u001b[1;31mNameError\u001b[0m                                 Traceback (most recent call last)",
      "Cell \u001b[1;32mIn[1], line 1\u001b[0m\n\u001b[1;32m----> 1\u001b[0m s_start \u001b[38;5;241m=\u001b[39m \u001b[43mnp\u001b[49m\u001b[38;5;241m.\u001b[39marray([\u001b[38;5;241m0\u001b[39m,\u001b[38;5;241m0\u001b[39m,\u001b[38;5;241m0\u001b[39m])\n",
      "\u001b[1;31mNameError\u001b[0m: name 'np' is not defined"
     ]
    }
   ],
   "source": [
    "s_start = np.array([0,0,0])"
   ]
  },
  {
   "cell_type": "code",
   "execution_count": null,
   "id": "3c151218",
   "metadata": {},
   "outputs": [],
   "source": []
  }
 ],
 "metadata": {
  "kernelspec": {
   "display_name": "Python 3 (ipykernel)",
   "language": "python",
   "name": "python3"
  },
  "language_info": {
   "codemirror_mode": {
    "name": "ipython",
    "version": 3
   },
   "file_extension": ".py",
   "mimetype": "text/x-python",
   "name": "python",
   "nbconvert_exporter": "python",
   "pygments_lexer": "ipython3",
   "version": "3.11.1"
  }
 },
 "nbformat": 4,
 "nbformat_minor": 5
}
