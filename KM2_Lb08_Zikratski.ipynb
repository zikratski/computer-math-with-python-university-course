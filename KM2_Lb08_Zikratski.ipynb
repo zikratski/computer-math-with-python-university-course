{
 "cells": [
  {
   "cell_type": "markdown",
   "id": "bac21306",
   "metadata": {},
   "source": [
    "# Лабораторная работа 8.Построение бинарного дерева поиска.Подсчет количества элементов в деревe"
   ]
  },
  {
   "cell_type": "markdown",
   "id": "a5b9c1e2",
   "metadata": {},
   "source": [
    "## Задание 8.1 (Определение классов)"
   ]
  },
  {
   "cell_type": "code",
   "execution_count": 1,
   "id": "6a43ccee",
   "metadata": {},
   "outputs": [],
   "source": [
    "class BinaryTree:\n",
    "    def __init__(self):\n",
    "        self.root = EmptyNode() #селфом BinaryTree при иниц. будет являтся экземляр класса EmptyNode - пустоая вершина\n",
    "\n",
    "    def __repr__(self): #метод отслеживания состояния экземпляра\n",
    "        return repr(self.root)\n",
    "\n",
    "    def insert(self, value):\n",
    "        self.root = self.root.insert(value) #в этом методе мы к значению объекта self.root применяем атрибут insert() \n"
   ]
  },
  {
   "cell_type": "code",
   "execution_count": 2,
   "id": "e7e3e397",
   "metadata": {},
   "outputs": [
    {
     "ename": "NameError",
     "evalue": "name 'EmptyNode' is not defined",
     "output_type": "error",
     "traceback": [
      "\u001b[1;31m---------------------------------------------------------------------------\u001b[0m",
      "\u001b[1;31mNameError\u001b[0m                                 Traceback (most recent call last)",
      "Cell \u001b[1;32mIn[2], line 1\u001b[0m\n\u001b[1;32m----> 1\u001b[0m tree \u001b[38;5;241m=\u001b[39m \u001b[43mBinaryTree\u001b[49m\u001b[43m(\u001b[49m\u001b[43m)\u001b[49m\n",
      "Cell \u001b[1;32mIn[1], line 3\u001b[0m, in \u001b[0;36mBinaryTree.__init__\u001b[1;34m(self)\u001b[0m\n\u001b[0;32m      2\u001b[0m \u001b[38;5;28;01mdef\u001b[39;00m \u001b[38;5;21m__init__\u001b[39m(\u001b[38;5;28mself\u001b[39m):\n\u001b[1;32m----> 3\u001b[0m     \u001b[38;5;28mself\u001b[39m\u001b[38;5;241m.\u001b[39mroot \u001b[38;5;241m=\u001b[39m \u001b[43mEmptyNode\u001b[49m()\n",
      "\u001b[1;31mNameError\u001b[0m: name 'EmptyNode' is not defined"
     ]
    }
   ],
   "source": [
    "tree = BinaryTree()"
   ]
  },
  {
   "cell_type": "code",
   "execution_count": 3,
   "id": "c3de6c00",
   "metadata": {},
   "outputs": [],
   "source": [
    "class BinaryNode:\n",
    "    def __init__(self, left, value, right):\n",
    "        self.left = left\n",
    "        self.value = value\n",
    "        self.right = right\n",
    "        \n",
    "    def __repr__(self):\n",
    "        return f'({self.left}, {self.value}, {self.right})' \n",
    "    \n",
    "    def insert(self, value):\n",
    "        ...        "
   ]
  },
  {
   "cell_type": "code",
   "execution_count": 4,
   "id": "46cc474c",
   "metadata": {},
   "outputs": [],
   "source": [
    "node = BinaryNode(None, 5, None)"
   ]
  },
  {
   "cell_type": "code",
   "execution_count": 5,
   "id": "cad95352",
   "metadata": {},
   "outputs": [
    {
     "data": {
      "text/plain": [
       "5"
      ]
     },
     "execution_count": 5,
     "metadata": {},
     "output_type": "execute_result"
    }
   ],
   "source": [
    "node.value"
   ]
  },
  {
   "cell_type": "code",
   "execution_count": 6,
   "id": "6444bd7b",
   "metadata": {},
   "outputs": [],
   "source": [
    "node.left"
   ]
  },
  {
   "cell_type": "code",
   "execution_count": 7,
   "id": "66a22b3e",
   "metadata": {},
   "outputs": [
    {
     "name": "stdout",
     "output_type": "stream",
     "text": [
      "(None, 5, None)\n"
     ]
    }
   ],
   "source": [
    "print(node)"
   ]
  },
  {
   "cell_type": "code",
   "execution_count": 8,
   "id": "6e461247",
   "metadata": {},
   "outputs": [],
   "source": [
    "class EmptyNode:\n",
    "    def __repr__(self):\n",
    "        return '*'\n",
    "\n",
    "    def insert(self, value):\n",
    "        return BinaryNode(self, value, self)\n"
   ]
  },
  {
   "cell_type": "code",
   "execution_count": 9,
   "id": "2908a22d",
   "metadata": {},
   "outputs": [],
   "source": [
    "empty_node = EmptyNode()"
   ]
  },
  {
   "cell_type": "code",
   "execution_count": 10,
   "id": "be0d96e2",
   "metadata": {},
   "outputs": [
    {
     "name": "stdout",
     "output_type": "stream",
     "text": [
      "*\n"
     ]
    }
   ],
   "source": [
    "print(empty_node)"
   ]
  },
  {
   "cell_type": "code",
   "execution_count": 11,
   "id": "58b25257",
   "metadata": {},
   "outputs": [
    {
     "data": {
      "text/plain": [
       "'*'"
      ]
     },
     "execution_count": 11,
     "metadata": {},
     "output_type": "execute_result"
    }
   ],
   "source": [
    "empty_node.__repr__()"
   ]
  },
  {
   "cell_type": "code",
   "execution_count": 12,
   "id": "193f9740",
   "metadata": {},
   "outputs": [],
   "source": [
    "tree = BinaryTree()"
   ]
  },
  {
   "cell_type": "code",
   "execution_count": 13,
   "id": "53c57008",
   "metadata": {},
   "outputs": [
    {
     "name": "stdout",
     "output_type": "stream",
     "text": [
      "*\n"
     ]
    }
   ],
   "source": [
    "print(tree)"
   ]
  },
  {
   "cell_type": "code",
   "execution_count": 14,
   "id": "6d978504",
   "metadata": {},
   "outputs": [],
   "source": [
    "tree.insert(10)"
   ]
  },
  {
   "cell_type": "code",
   "execution_count": 15,
   "id": "11fc0dbe",
   "metadata": {},
   "outputs": [
    {
     "name": "stdout",
     "output_type": "stream",
     "text": [
      "(*, 10, *)\n"
     ]
    }
   ],
   "source": [
    "print(tree)"
   ]
  },
  {
   "cell_type": "code",
   "execution_count": 16,
   "id": "89fcef67",
   "metadata": {},
   "outputs": [
    {
     "data": {
      "text/plain": [
       "*"
      ]
     },
     "execution_count": 16,
     "metadata": {},
     "output_type": "execute_result"
    }
   ],
   "source": [
    "tree = BinaryTree()\n",
    "tree"
   ]
  },
  {
   "cell_type": "code",
   "execution_count": 17,
   "id": "ecdf4271",
   "metadata": {},
   "outputs": [],
   "source": [
    "source_data = [5,1,10,3,4]"
   ]
  },
  {
   "cell_type": "code",
   "execution_count": 18,
   "id": "3fdef840",
   "metadata": {},
   "outputs": [
    {
     "data": {
      "text/plain": [
       "(*, 5, *)"
      ]
     },
     "execution_count": 18,
     "metadata": {},
     "output_type": "execute_result"
    }
   ],
   "source": [
    "tree.insert(source_data[0])\n",
    "tree"
   ]
  },
  {
   "cell_type": "code",
   "execution_count": 19,
   "id": "b958819b",
   "metadata": {},
   "outputs": [],
   "source": [
    "class BinaryNode:\n",
    "    def __init__(self, left, value, right):\n",
    "        self.left = left\n",
    "        self.value = value\n",
    "        self.right = right\n",
    "\n",
    "    def __repr__(self):\n",
    "        return f'({self.left}, {self.value}, {self.right})'\n",
    "\n",
    "    def insert(self, value):\n",
    "        if value<self.value: #сравниваем вставляемое число с value узла\n",
    "            self.left = self.left.insert(value) #меняем левое дерево, на левое дерево с вставленным значением\n",
    "        elif value>=self.value:\n",
    "            self.right = self.right.insert(value)\n",
    "        return self #возвращаем все дерево этого узла (left, value, right)"
   ]
  },
  {
   "cell_type": "code",
   "execution_count": 20,
   "id": "47a0940c",
   "metadata": {},
   "outputs": [
    {
     "data": {
      "text/plain": [
       "None"
      ]
     },
     "execution_count": 20,
     "metadata": {},
     "output_type": "execute_result"
    }
   ],
   "source": [
    "tree.insert(source_data[1])\n",
    "tree"
   ]
  },
  {
   "cell_type": "code",
   "execution_count": 21,
   "id": "c5dc488b",
   "metadata": {},
   "outputs": [
    {
     "data": {
      "text/plain": [
       "*"
      ]
     },
     "execution_count": 21,
     "metadata": {},
     "output_type": "execute_result"
    }
   ],
   "source": [
    "tree1 = BinaryTree()\n",
    "tree1"
   ]
  },
  {
   "cell_type": "code",
   "execution_count": 22,
   "id": "23bc69f6",
   "metadata": {},
   "outputs": [
    {
     "name": "stdout",
     "output_type": "stream",
     "text": [
      "(*, 5, *)\n",
      "((*, 1, *), 5, *)\n",
      "((*, 1, *), 5, (*, 10, *))\n",
      "((*, 1, (*, 3, *)), 5, (*, 10, *))\n",
      "((*, 1, (*, 3, (*, 4, *))), 5, (*, 10, *))\n"
     ]
    }
   ],
   "source": [
    "for i in source_data:\n",
    "    tree1.insert(i)\n",
    "    print(tree1)"
   ]
  },
  {
   "cell_type": "code",
   "execution_count": 23,
   "id": "4b7eaf10",
   "metadata": {},
   "outputs": [
    {
     "name": "stdout",
     "output_type": "stream",
     "text": [
      "((*, 1, (*, 3, (*, 4, *))), 5, ((*, 5, *), 10, *))\n",
      "((*, 1, ((*, 1, *), 3, (*, 4, *))), 5, ((*, 5, *), 10, *))\n",
      "((*, 1, ((*, 1, *), 3, (*, 4, *))), 5, ((*, 5, *), 10, (*, 10, *)))\n",
      "((*, 1, ((*, 1, *), 3, ((*, 3, *), 4, *))), 5, ((*, 5, *), 10, (*, 10, *)))\n",
      "((*, 1, ((*, 1, *), 3, ((*, 3, *), 4, (*, 4, *)))), 5, ((*, 5, *), 10, (*, 10, *)))\n"
     ]
    }
   ],
   "source": [
    "for i in source_data:\n",
    "    tree1.insert(i)\n",
    "    print(tree1)"
   ]
  },
  {
   "cell_type": "code",
   "execution_count": 24,
   "id": "4e4d4a1c",
   "metadata": {},
   "outputs": [
    {
     "name": "stdout",
     "output_type": "stream",
     "text": [
      "(*, s, *)\n",
      "((*, o, *), s, *)\n",
      "((*, o, *), s, (*, u, *))\n",
      "((*, o, (*, r, *)), s, (*, u, *))\n",
      "(((*, c, *), o, (*, r, *)), s, (*, u, *))\n",
      "(((*, c, (*, e, *)), o, (*, r, *)), s, (*, u, *))\n",
      "((((*, _, *), c, (*, e, *)), o, (*, r, *)), s, (*, u, *))\n",
      "((((*, _, *), c, ((*, d, *), e, *)), o, (*, r, *)), s, (*, u, *))\n",
      "((((*, _, (*, a, *)), c, ((*, d, *), e, *)), o, (*, r, *)), s, (*, u, *))\n",
      "((((*, _, (*, a, *)), c, ((*, d, *), e, *)), o, (*, r, *)), s, ((*, t, *), u, *))\n",
      "((((*, _, (*, a, (*, a, *))), c, ((*, d, *), e, *)), o, (*, r, *)), s, ((*, t, *), u, *))\n"
     ]
    }
   ],
   "source": [
    "tree = BinaryTree()\n",
    "for i in 'source_data':\n",
    "    tree.insert(i)\n",
    "    print(tree)"
   ]
  },
  {
   "cell_type": "markdown",
   "id": "778e43e5",
   "metadata": {},
   "source": [
    "## Задание 8.3 (Перегрузка операции принадлежности in )"
   ]
  },
  {
   "cell_type": "code",
   "execution_count": 25,
   "id": "89602686",
   "metadata": {},
   "outputs": [],
   "source": [
    "class BinaryTree:\n",
    "    def __init__(self):\n",
    "        self.root = EmptyNode()\n",
    "\n",
    "    def __repr__(self):\n",
    "        return repr(self.root)\n",
    "\n",
    "    def insert(self, value):\n",
    "        self.root = self.root.insert(value)\n",
    "\n",
    "    def __contains__(self, value): #проверям наличие\n",
    "        return value in self.root"
   ]
  },
  {
   "cell_type": "code",
   "execution_count": 26,
   "id": "60b88aa8",
   "metadata": {},
   "outputs": [],
   "source": [
    "class BinaryNode:\n",
    "    def __init__(self, left, value, right):\n",
    "        self.left = left\n",
    "        self.value = value\n",
    "        self.right = right\n",
    "\n",
    "    def __repr__(self):\n",
    "        return f'({self.left}, {self.value}, {self.right})'\n",
    "\n",
    "    def insert(self, value):\n",
    "        if value:\n",
    "            if value<self.value:\n",
    "                self.left = self.left.insert(value)\n",
    "            elif value>=self.value:\n",
    "                self.right = self.right.insert(value)\n",
    "            return self\n",
    "    def __contains__(self, value):\n",
    "        if value or value == 0:\n",
    "            if value<self.value:\n",
    "                return self.left.__contains__(value) #применяем метод __contains__ к левому дерево, чем бы оно не было\n",
    "            elif value>self.value:\n",
    "                return self.right.__contains__(value)\n",
    "            elif value==self.value: #если значение совпадает с значением узла\n",
    "                return True"
   ]
  },
  {
   "cell_type": "code",
   "execution_count": 27,
   "id": "2222f98d",
   "metadata": {},
   "outputs": [],
   "source": [
    "class EmptyNode:\n",
    "    def __repr__(self):\n",
    "        return '*'\n",
    "\n",
    "    def insert(self, value):\n",
    "        return BinaryNode(self, value, self)\n",
    "    def __contains__(self, value): \n",
    "        return False #в листе точно нет значения - он пустой"
   ]
  },
  {
   "cell_type": "code",
   "execution_count": 28,
   "id": "1f011fdf",
   "metadata": {},
   "outputs": [
    {
     "name": "stdout",
     "output_type": "stream",
     "text": [
      "(*, 5, *)\n",
      "((*, 1, *), 5, *)\n",
      "((*, 1, *), 5, (*, 10, *))\n",
      "((*, 1, (*, 3, *)), 5, (*, 10, *))\n",
      "((*, 1, (*, 3, (*, 4, *))), 5, (*, 10, *))\n",
      "(0, False) (1, True) (2, False) (3, True) (4, True) (5, True) (6, False) (7, False) (8, False) (9, False) "
     ]
    }
   ],
   "source": [
    "source_data = [5,1,10,3,4]\n",
    "tree = BinaryTree()\n",
    "for i in source_data:\n",
    "    tree.insert(i)\n",
    "    print(tree)\n",
    "for i in range(10):\n",
    "    print((i, i in tree), end = ' ')"
   ]
  },
  {
   "cell_type": "markdown",
   "id": "01e14d4a",
   "metadata": {},
   "source": [
    "## Задание 8.4 (Перегрузка встроенной функции len "
   ]
  },
  {
   "cell_type": "code",
   "execution_count": 29,
   "id": "a99ec1f9",
   "metadata": {},
   "outputs": [],
   "source": [
    "class BinaryTree:\n",
    "    def __init__(self):\n",
    "        self.root = EmptyNode()\n",
    "        BinaryNode.count = 0\n",
    "\n",
    "    def __repr__(self):\n",
    "        return repr(self.root)\n",
    "\n",
    "    def insert(self, value):\n",
    "        self.root = self.root.insert(value)\n",
    "\n",
    "    def __contains__(self, value):\n",
    "        return value in self.root\n",
    "    def __len__(self):\n",
    "        return len(self.root) "
   ]
  },
  {
   "cell_type": "code",
   "execution_count": 30,
   "id": "31537593",
   "metadata": {},
   "outputs": [],
   "source": [
    "class EmptyNode:\n",
    "    def __repr__(self):\n",
    "        return '*'\n",
    "\n",
    "    def insert(self, value):\n",
    "        return BinaryNode(self, value, self)\n",
    "    def __contains__(self, value):\n",
    "        return False\n",
    "    def __len__(self):\n",
    "        return 0"
   ]
  },
  {
   "cell_type": "code",
   "execution_count": 31,
   "id": "8935f98b",
   "metadata": {},
   "outputs": [],
   "source": [
    "class BinaryNode:\n",
    "    count = 0 #создаем атрибут класса\n",
    "    def __init__(self, left, value, right):\n",
    "        self.left = left\n",
    "        self.value = value\n",
    "        self.right = right\n",
    "        BinaryNode.count += 1 #при создании экземпляра, т.е. узла, увеличиваем счетчик\n",
    "\n",
    "    def __repr__(self):\n",
    "        return f'({self.left}, {self.value}, {self.right})'\n",
    "\n",
    "    def insert(self, value):\n",
    "        if value:\n",
    "            if value<self.value:\n",
    "                self.left = self.left.insert(value)\n",
    "            elif value>=self.value:\n",
    "                self.right = self.right.insert(value)\n",
    "            return self\n",
    "    def __contains__(self, value):\n",
    "        if value or value == 0:\n",
    "            if value<self.value:\n",
    "                return self.left.__contains__(value)\n",
    "            elif value>self.value:\n",
    "                return self.right.__contains__(value)\n",
    "            elif value==self.value:\n",
    "                return True\n",
    "    def __len__(self):\n",
    "        return self.count"
   ]
  },
  {
   "cell_type": "code",
   "execution_count": 32,
   "id": "9175bc60",
   "metadata": {},
   "outputs": [],
   "source": [
    "tree1 = BinaryTree()"
   ]
  },
  {
   "cell_type": "code",
   "execution_count": 33,
   "id": "993015b5",
   "metadata": {},
   "outputs": [
    {
     "name": "stdout",
     "output_type": "stream",
     "text": [
      "*\n"
     ]
    }
   ],
   "source": [
    "print(tree1)"
   ]
  },
  {
   "cell_type": "code",
   "execution_count": 34,
   "id": "fa22a994",
   "metadata": {},
   "outputs": [
    {
     "name": "stdout",
     "output_type": "stream",
     "text": [
      "5\n"
     ]
    }
   ],
   "source": [
    "for i in source_data:\n",
    "    tree1.insert(i)\n",
    "print(len(tree1))"
   ]
  },
  {
   "cell_type": "markdown",
   "id": "743e37f1",
   "metadata": {},
   "source": [
    "## Задание 8.5 (Чтение данных из файла для построения бинарного дерева поиска)"
   ]
  },
  {
   "cell_type": "code",
   "execution_count": 35,
   "id": "cc5a23ae",
   "metadata": {},
   "outputs": [],
   "source": [
    "import random"
   ]
  },
  {
   "cell_type": "markdown",
   "id": "ce6e8531",
   "metadata": {},
   "source": [
    "### числовые данные хранятся в текстовом файле и записаны в столбец;"
   ]
  },
  {
   "cell_type": "code",
   "execution_count": 36,
   "id": "2041b09f",
   "metadata": {},
   "outputs": [],
   "source": [
    "with open('lab8_test1.txt','w',encoding='utf-8') as f:\n",
    "    for _ in range(20):\n",
    "        f.write(str(random.randrange(1,20))+'\\n')"
   ]
  },
  {
   "cell_type": "code",
   "execution_count": 37,
   "id": "5fde6c0d",
   "metadata": {},
   "outputs": [],
   "source": [
    "tree_test1 = BinaryTree()"
   ]
  },
  {
   "cell_type": "code",
   "execution_count": 38,
   "id": "ade5d3bf",
   "metadata": {},
   "outputs": [
    {
     "data": {
      "text/plain": [
       "*"
      ]
     },
     "execution_count": 38,
     "metadata": {},
     "output_type": "execute_result"
    }
   ],
   "source": [
    "tree_test1"
   ]
  },
  {
   "cell_type": "code",
   "execution_count": 39,
   "id": "edb96fea",
   "metadata": {},
   "outputs": [
    {
     "name": "stdout",
     "output_type": "stream",
     "text": [
      "((((*, 1, *), 3, (*, 3, *)), 4, ((((*, 6, (*, 6, *)), 7, (*, 7, *)), 8, (*, 10, *)), 11, (((*, 11, *), 12, (*, 14, *)), 16, *))), 18, ((*, 18, (*, 18, *)), 19, (*, 19, *)))\n",
      "(0, False) (1, True) (2, False) (3, True) (4, True) (5, False) (6, True) (7, True) (8, True) (9, False) 20\n"
     ]
    }
   ],
   "source": [
    "with open('lab8_test1.txt','r',encoding='utf-8') as f:\n",
    "    for line in f:\n",
    "        tree_test1.insert(int(line.strip()))\n",
    "        #print(tree_test1)\n",
    "print(tree_test1)\n",
    "for i in range(10):\n",
    "    print((i, i in tree_test1), end = ' ')  \n",
    "print(len(tree_test1))"
   ]
  },
  {
   "cell_type": "markdown",
   "id": "c392c3ff",
   "metadata": {},
   "source": [
    "### числовые данные хранятся в текстовом файле, записаны в строки, разделены пробелами, в каждой строке расположено одинаковое количество числовых значений"
   ]
  },
  {
   "cell_type": "code",
   "execution_count": 40,
   "id": "5a270060",
   "metadata": {},
   "outputs": [],
   "source": [
    "with open('lab8_test2.txt','w',encoding='utf-8') as f:\n",
    "    for _ in range(20):\n",
    "        for i in range(10):\n",
    "            f.write(str(random.randrange(10**4,10**5-1))+' ')\n",
    "        f.write('\\n')"
   ]
  },
  {
   "cell_type": "code",
   "execution_count": 41,
   "id": "91be08a7",
   "metadata": {},
   "outputs": [],
   "source": [
    "tree_test2 = BinaryTree()"
   ]
  },
  {
   "cell_type": "code",
   "execution_count": 42,
   "id": "ff3be0ac",
   "metadata": {},
   "outputs": [
    {
     "name": "stdout",
     "output_type": "stream",
     "text": [
      "(((((*, 10803, (*, 11824, *)), 12239, *), 12507, (((((*, 12602, *), 13283, (*, 13733, *)), 15202, (((*, 15285, (*, 15595, *)), 15635, *), 15767, (((*, 16064, *), 17923, (*, 18415, *)), 18554, (*, 18620, *)))), 18858, *), 19515, ((*, 19775, *), 20476, ((*, 20731, (((*, 23049, *), 23202, *), 23351, (*, 24012, ((*, 24708, *), 24741, *)))), 25837, (((*, 26405, *), 26893, ((*, 26964, (*, 27150, ((*, 27263, *), 27914, *))), 28310, *)), 28385, (*, 28799, *)))))), 29162, (((*, 30101, ((*, 30426, *), 30447, (*, 30956, *))), 31781, (*, 32752, *)), 33002, ((*, 33019, ((((*, 33179, *), 33335, (*, 33357, (*, 33591, *))), 33721, *), 33887, *)), 34199, *))), 34746, ((((((*, 35347, *), 35429, ((*, 36663, *), 37168, ((*, 37610, (*, 37773, *)), 38669, *))), 39614, (((*, 40432, *), 40555, *), 41564, *)), 42887, (((*, 43161, *), 44699, ((*, 45121, *), 45280, *)), 45498, (*, 45652, (*, 46655, ((*, 46812, (*, 47299, *)), 47483, *))))), 47646, ((((((*, 48230, (*, 48342, *)), 48493, ((*, 48667, (*, 49214, *)), 49397, *)), 50060, (((*, 50079, *), 50681, (*, 51739, *)), 52080, *)), 52549, ((((*, 52595, *), 52986, ((*, 53754, *), 54030, *)), 54640, (*, 54715, ((((*, 54752, *), 54806, *), 55268, *), 55304, (*, 56040, ((((*, 57651, *), 58303, ((*, 58634, *), 58691, (*, 58707, *))), 59106, *), 59297, (*, 59715, *)))))), 59896, (*, 60312, (*, 60736, *)))), 61585, (((((*, 62246, ((*, 62682, *), 63165, *)), 63396, *), 63614, *), 63781, (*, 64111, *)), 66011, ((*, 67453, *), 68398, ((((*, 69603, *), 69965, *), 71138, *), 71334, (*, 71931, ((*, 72124, *), 72160, (*, 72567, *))))))), 72734, ((((*, 73179, *), 73497, (*, 73840, *)), 73905, (*, 74089, (*, 74147, ((*, 75108, *), 76650, *)))), 76898, (*, 77435, *)))), 78346, ((*, 78735, ((((*, 79336, ((*, 79458, *), 79729, *)), 79815, *), 80107, (*, 80176, *)), 80466, (*, 80467, *))), 80673, (((*, 80957, ((*, 81435, ((*, 81457, *), 82436, *)), 83199, (*, 83227, (*, 83272, *)))), 83300, (*, 83438, (*, 83469, ((*, 83489, *), 83748, (*, 85365, *))))), 85390, ((((*, 85677, *), 86361, *), 87588, (*, 88224, (*, 88865, *))), 89387, ((((((*, 89621, *), 89806, *), 89918, ((*, 90408, *), 90439, (*, 90497, (*, 91079, *)))), 91876, ((*, 92487, (*, 93111, *)), 93357, (*, 94003, *))), 94202, (*, 94451, *)), 94912, ((((*, 94938, *), 94980, *), 96051, (*, 96093, (*, 96780, *))), 97799, (((*, 97861, (*, 97998, *)), 98199, *), 98271, ((*, 98578, *), 99922, *)))))))))\n",
      "200\n"
     ]
    }
   ],
   "source": [
    "with open('lab8_test2.txt','r',encoding='utf-8') as f:\n",
    "    for line in f:\n",
    "        words = line.strip()\n",
    "        words = words.split(' ')\n",
    "        #print(words)\n",
    "        for i in words:\n",
    "            tree_test2.insert(int(i))\n",
    "        #print(tree_test1)\n",
    "print(tree_test2)\n",
    "# for i in range(10):\n",
    "#     print((i, i in tree_test1), end = ' ')  \n",
    "print(len(tree_test1))"
   ]
  },
  {
   "cell_type": "code",
   "execution_count": 43,
   "id": "7c7a3cab",
   "metadata": {},
   "outputs": [],
   "source": [
    "with open('lab8_test3.json','w',encoding='utf-8') as f:\n",
    "    for _ in range(20):\n",
    "        f.write(str(random.randrange(10**4,10**5-1))+'\\n')"
   ]
  },
  {
   "cell_type": "code",
   "execution_count": 44,
   "id": "d8bd71f4",
   "metadata": {},
   "outputs": [],
   "source": [
    "tree_test3 = BinaryTree()"
   ]
  },
  {
   "cell_type": "code",
   "execution_count": 45,
   "id": "cc906b09",
   "metadata": {},
   "outputs": [
    {
     "name": "stdout",
     "output_type": "stream",
     "text": [
      "((((*, 16336, (*, 18976, (*, 18986, (*, 20058, *)))), 20691, (((*, 33716, *), 35718, (((((*, 41829, *), 41935, *), 45373, *), 55074, *), 59070, *)), 59132, *)), 60058, *), 65786, (((*, 67420, *), 67771, ((*, 68776, *), 90645, *)), 92164, *))\n",
      "20\n"
     ]
    }
   ],
   "source": [
    "with open('lab8_test3.json','r',encoding='utf-8') as f:\n",
    "    for line in f:\n",
    "        tree_test3.insert(int(line.strip()))\n",
    "        #print(tree_test1)\n",
    "print(tree_test3)\n",
    "# for i in range(10):\n",
    "#     print((i, i in tree_test3), end = ' ')  \n",
    "print(len(tree_test3))"
   ]
  },
  {
   "cell_type": "markdown",
   "id": "35d016ba",
   "metadata": {},
   "source": [
    "# ДОП"
   ]
  },
  {
   "cell_type": "markdown",
   "id": "3c8853dc",
   "metadata": {},
   "source": [
    "## протокол дескрипторов 10 примеров"
   ]
  },
  {
   "cell_type": "code",
   "execution_count": 5,
   "id": "1e96d00d",
   "metadata": {},
   "outputs": [],
   "source": [
    "#протокол дескрипторов - это механизм, который позволяет переопределять доступ к атрибутам классов"
   ]
  },
  {
   "cell_type": "code",
   "execution_count": 1,
   "id": "55bcf7c1",
   "metadata": {},
   "outputs": [],
   "source": [
    "#дескрипторы - классы, содержащие методы __get__, __set__ и __delete__"
   ]
  },
  {
   "cell_type": "code",
   "execution_count": 4,
   "id": "c4d209b4",
   "metadata": {},
   "outputs": [
    {
     "data": {
      "text/plain": [
       "20"
      ]
     },
     "execution_count": 4,
     "metadata": {},
     "output_type": "execute_result"
    }
   ],
   "source": [
    "class Doubler: #вот это дескриптор\n",
    "    def __get__(self, instance, owner):\n",
    "        return instance._value\n",
    "    def __set__(self, instance, value):\n",
    "        instance._value = value * 2\n",
    "class MyClass:\n",
    "    value = Doubler()\n",
    "\n",
    "obj = MyClass()\n",
    "obj.value = 10\n",
    "obj.value"
   ]
  },
  {
   "cell_type": "code",
   "execution_count": 7,
   "id": "09110bb6",
   "metadata": {},
   "outputs": [],
   "source": [
    "class Temperature:\n",
    "    def __get__(self, instance, owner):\n",
    "        return instance._celsius\n",
    "\n",
    "    def __set__(self, instance, value):\n",
    "        if value < -273.15:\n",
    "            raise ValueError(\"Temperature cannot be below -273.15°C\")\n",
    "        instance._celsius = value\n",
    "\n",
    "class CelsiusWeather:\n",
    "    temperature = Temperature()"
   ]
  },
  {
   "cell_type": "code",
   "execution_count": 9,
   "id": "c4882088",
   "metadata": {},
   "outputs": [
    {
     "data": {
      "text/plain": [
       "25"
      ]
     },
     "execution_count": 9,
     "metadata": {},
     "output_type": "execute_result"
    }
   ],
   "source": [
    "weather = CelsiusWeather()\n",
    "weather.temperature = 25  # вызывеам  __set__\n",
    "weather.temperature # вызываем __get__"
   ]
  },
  {
   "cell_type": "code",
   "execution_count": 13,
   "id": "1175bffc",
   "metadata": {},
   "outputs": [
    {
     "ename": "ValueError",
     "evalue": "Temperature cannot be below -273.15°C",
     "output_type": "error",
     "traceback": [
      "\u001b[1;31m---------------------------------------------------------------------------\u001b[0m",
      "\u001b[1;31mValueError\u001b[0m                                Traceback (most recent call last)",
      "Cell \u001b[1;32mIn[13], line 2\u001b[0m\n\u001b[0;32m      1\u001b[0m russian_weather \u001b[38;5;241m=\u001b[39m CelsiusWeather()\n\u001b[1;32m----> 2\u001b[0m \u001b[43mrussian_weather\u001b[49m\u001b[38;5;241;43m.\u001b[39;49m\u001b[43mtemperature\u001b[49m \u001b[38;5;241m=\u001b[39m \u001b[38;5;241m-\u001b[39m\u001b[38;5;241m280\u001b[39m\n",
      "Cell \u001b[1;32mIn[7], line 7\u001b[0m, in \u001b[0;36mTemperature.__set__\u001b[1;34m(self, instance, value)\u001b[0m\n\u001b[0;32m      5\u001b[0m \u001b[38;5;28;01mdef\u001b[39;00m \u001b[38;5;21m__set__\u001b[39m(\u001b[38;5;28mself\u001b[39m, instance, value):\n\u001b[0;32m      6\u001b[0m     \u001b[38;5;28;01mif\u001b[39;00m value \u001b[38;5;241m<\u001b[39m \u001b[38;5;241m-\u001b[39m\u001b[38;5;241m273.15\u001b[39m:\n\u001b[1;32m----> 7\u001b[0m         \u001b[38;5;28;01mraise\u001b[39;00m \u001b[38;5;167;01mValueError\u001b[39;00m(\u001b[38;5;124m\"\u001b[39m\u001b[38;5;124mTemperature cannot be below -273.15°C\u001b[39m\u001b[38;5;124m\"\u001b[39m)\n\u001b[0;32m      8\u001b[0m     instance\u001b[38;5;241m.\u001b[39m_celsius \u001b[38;5;241m=\u001b[39m value\n",
      "\u001b[1;31mValueError\u001b[0m: Temperature cannot be below -273.15°C"
     ]
    }
   ],
   "source": [
    "russian_weather = CelsiusWeather()\n",
    "russian_weather.temperature = -280"
   ]
  },
  {
   "cell_type": "code",
   "execution_count": 14,
   "id": "68349255",
   "metadata": {},
   "outputs": [],
   "source": [
    "class Square:\n",
    "    def __init__(self, side):\n",
    "        self._side = side\n",
    "    def _get_side(self):\n",
    "        return self._side\n",
    "    def _set_side(self, value):\n",
    "        if value >= 0:\n",
    "            self._side = value\n",
    "        else:\n",
    "            raise ValueError(\"Side length cannot be negative.\")\n",
    "\n",
    "    side = property(_get_side, _set_side)"
   ]
  },
  {
   "cell_type": "code",
   "execution_count": 15,
   "id": "e7a45dcb",
   "metadata": {},
   "outputs": [
    {
     "name": "stdout",
     "output_type": "stream",
     "text": [
      "5\n",
      "10\n"
     ]
    },
    {
     "ename": "ValueError",
     "evalue": "Side length cannot be negative.",
     "output_type": "error",
     "traceback": [
      "\u001b[1;31m---------------------------------------------------------------------------\u001b[0m",
      "\u001b[1;31mValueError\u001b[0m                                Traceback (most recent call last)",
      "Cell \u001b[1;32mIn[15], line 5\u001b[0m\n\u001b[0;32m      3\u001b[0m square\u001b[38;5;241m.\u001b[39mside \u001b[38;5;241m=\u001b[39m \u001b[38;5;241m10\u001b[39m\n\u001b[0;32m      4\u001b[0m \u001b[38;5;28mprint\u001b[39m(square\u001b[38;5;241m.\u001b[39mside)  \n\u001b[1;32m----> 5\u001b[0m \u001b[43msquare\u001b[49m\u001b[38;5;241;43m.\u001b[39;49m\u001b[43mside\u001b[49m \u001b[38;5;241m=\u001b[39m \u001b[38;5;241m-\u001b[39m\u001b[38;5;241m3\u001b[39m  \n",
      "Cell \u001b[1;32mIn[14], line 10\u001b[0m, in \u001b[0;36mSquare._set_side\u001b[1;34m(self, value)\u001b[0m\n\u001b[0;32m      8\u001b[0m     \u001b[38;5;28mself\u001b[39m\u001b[38;5;241m.\u001b[39m_side \u001b[38;5;241m=\u001b[39m value\n\u001b[0;32m      9\u001b[0m \u001b[38;5;28;01melse\u001b[39;00m:\n\u001b[1;32m---> 10\u001b[0m     \u001b[38;5;28;01mraise\u001b[39;00m \u001b[38;5;167;01mValueError\u001b[39;00m(\u001b[38;5;124m\"\u001b[39m\u001b[38;5;124mSide length cannot be negative.\u001b[39m\u001b[38;5;124m\"\u001b[39m)\n",
      "\u001b[1;31mValueError\u001b[0m: Side length cannot be negative."
     ]
    }
   ],
   "source": [
    "square = Square(5)\n",
    "print(square.side)  \n",
    "square.side = 10\n",
    "print(square.side)  \n",
    "square.side = -3  "
   ]
  },
  {
   "cell_type": "code",
   "execution_count": 22,
   "id": "e6c592bd",
   "metadata": {},
   "outputs": [],
   "source": [
    "class ReadOnlyDescriptor: # дескриптор только для чтения\n",
    "    def __get__(self, instance, owner):\n",
    "        return \"Read-only value\"\n",
    "\n",
    "class MyClass:\n",
    "    attribute = ReadOnlyDescriptor()"
   ]
  },
  {
   "cell_type": "code",
   "execution_count": 23,
   "id": "7a3df206",
   "metadata": {},
   "outputs": [
    {
     "data": {
      "text/plain": [
       "'Read-only value'"
      ]
     },
     "execution_count": 23,
     "metadata": {},
     "output_type": "execute_result"
    }
   ],
   "source": [
    "obj = MyClass()\n",
    "obj.attribute"
   ]
  },
  {
   "cell_type": "code",
   "execution_count": 24,
   "id": "770bba6b",
   "metadata": {},
   "outputs": [],
   "source": [
    "class ReadWriteDescriptor: #дескриптор для чтения и записи\n",
    "    def __get__(self, instance, owner):\n",
    "        return instance._value\n",
    "\n",
    "    def __set__(self, instance, value):\n",
    "        instance._value = value * 2\n",
    "\n",
    "class MyClass:\n",
    "    attribute = ReadWriteDescriptor()"
   ]
  },
  {
   "cell_type": "code",
   "execution_count": 26,
   "id": "5d35d1da",
   "metadata": {},
   "outputs": [
    {
     "data": {
      "text/plain": [
       "10"
      ]
     },
     "execution_count": 26,
     "metadata": {},
     "output_type": "execute_result"
    }
   ],
   "source": [
    "obj = MyClass()\n",
    "obj.attribute = 5  #set удваивает значение\n",
    "obj.attribute  # вызов get"
   ]
  },
  {
   "cell_type": "code",
   "execution_count": 29,
   "id": "2114bb42",
   "metadata": {},
   "outputs": [],
   "source": [
    "class DeleteDescriptor: #дескриптор для удаления\n",
    "    def __get__(self, instance, owner):\n",
    "        if instance is None:\n",
    "            return self\n",
    "        return instance._value\n",
    "\n",
    "    def __set__(self, instance, value):\n",
    "        instance._value = value\n",
    "\n",
    "    def __delete__(self, instance):\n",
    "        del instance._value\n",
    "\n",
    "class MyClass:\n",
    "    attribute = DeleteDescriptor()"
   ]
  },
  {
   "cell_type": "code",
   "execution_count": 31,
   "id": "8fda8020",
   "metadata": {},
   "outputs": [
    {
     "name": "stdout",
     "output_type": "stream",
     "text": [
      "10\n"
     ]
    },
    {
     "ename": "AttributeError",
     "evalue": "'MyClass' object has no attribute '_value'",
     "output_type": "error",
     "traceback": [
      "\u001b[1;31m---------------------------------------------------------------------------\u001b[0m",
      "\u001b[1;31mAttributeError\u001b[0m                            Traceback (most recent call last)",
      "Cell \u001b[1;32mIn[31], line 6\u001b[0m\n\u001b[0;32m      3\u001b[0m \u001b[38;5;28mprint\u001b[39m(obj\u001b[38;5;241m.\u001b[39mattribute)  \u001b[38;5;66;03m# 10\u001b[39;00m\n\u001b[0;32m      5\u001b[0m \u001b[38;5;28;01mdel\u001b[39;00m obj\u001b[38;5;241m.\u001b[39mattribute  \u001b[38;5;66;03m# вызываем __delete__ \u001b[39;00m\n\u001b[1;32m----> 6\u001b[0m \u001b[43mobj\u001b[49m\u001b[38;5;241;43m.\u001b[39;49m\u001b[43mattribute\u001b[49m  \u001b[38;5;66;03m# ошибка, т.к. удалили\u001b[39;00m\n",
      "Cell \u001b[1;32mIn[29], line 5\u001b[0m, in \u001b[0;36mDeleteDescriptor.__get__\u001b[1;34m(self, instance, owner)\u001b[0m\n\u001b[0;32m      3\u001b[0m \u001b[38;5;28;01mif\u001b[39;00m instance \u001b[38;5;129;01mis\u001b[39;00m \u001b[38;5;28;01mNone\u001b[39;00m:\n\u001b[0;32m      4\u001b[0m     \u001b[38;5;28;01mreturn\u001b[39;00m \u001b[38;5;28mself\u001b[39m\n\u001b[1;32m----> 5\u001b[0m \u001b[38;5;28;01mreturn\u001b[39;00m \u001b[43minstance\u001b[49m\u001b[38;5;241;43m.\u001b[39;49m\u001b[43m_value\u001b[49m\n",
      "\u001b[1;31mAttributeError\u001b[0m: 'MyClass' object has no attribute '_value'"
     ]
    }
   ],
   "source": [
    "obj = MyClass()\n",
    "obj.attribute = 10\n",
    "print(obj.attribute)  # 10\n",
    "\n",
    "del obj.attribute  # вызываем __delete__ \n",
    "obj.attribute  # ошибка, т.к. удалили"
   ]
  },
  {
   "cell_type": "code",
   "execution_count": 32,
   "id": "24d8bc2a",
   "metadata": {},
   "outputs": [],
   "source": [
    "class PositiveIntegerDescriptor:\n",
    "    def __get__(self, instance, owner):\n",
    "        return instance._value\n",
    "\n",
    "    def __set__(self, instance, value):\n",
    "        if not isinstance(value, int) or value <= 0:\n",
    "            raise ValueError(\"Value must be a positive integer\")\n",
    "        instance._value = value\n",
    "\n",
    "class MyClass:\n",
    "    attribute = PositiveIntegerDescriptor()"
   ]
  },
  {
   "cell_type": "code",
   "execution_count": 34,
   "id": "1c20113c",
   "metadata": {},
   "outputs": [
    {
     "name": "stdout",
     "output_type": "stream",
     "text": [
      "10\n"
     ]
    },
    {
     "ename": "ValueError",
     "evalue": "Value must be a positive integer",
     "output_type": "error",
     "traceback": [
      "\u001b[1;31m---------------------------------------------------------------------------\u001b[0m",
      "\u001b[1;31mValueError\u001b[0m                                Traceback (most recent call last)",
      "Cell \u001b[1;32mIn[34], line 4\u001b[0m\n\u001b[0;32m      2\u001b[0m obj\u001b[38;5;241m.\u001b[39mattribute \u001b[38;5;241m=\u001b[39m \u001b[38;5;241m10\u001b[39m\n\u001b[0;32m      3\u001b[0m \u001b[38;5;28mprint\u001b[39m(obj\u001b[38;5;241m.\u001b[39mattribute)  \u001b[38;5;66;03m# 10\u001b[39;00m\n\u001b[1;32m----> 4\u001b[0m \u001b[43mobj\u001b[49m\u001b[38;5;241;43m.\u001b[39;49m\u001b[43mattribute\u001b[49m \u001b[38;5;241m=\u001b[39m \u001b[38;5;241m-\u001b[39m\u001b[38;5;241m5\u001b[39m  \u001b[38;5;66;03m# ошибка\u001b[39;00m\n",
      "Cell \u001b[1;32mIn[32], line 7\u001b[0m, in \u001b[0;36mPositiveIntegerDescriptor.__set__\u001b[1;34m(self, instance, value)\u001b[0m\n\u001b[0;32m      5\u001b[0m \u001b[38;5;28;01mdef\u001b[39;00m \u001b[38;5;21m__set__\u001b[39m(\u001b[38;5;28mself\u001b[39m, instance, value):\n\u001b[0;32m      6\u001b[0m     \u001b[38;5;28;01mif\u001b[39;00m \u001b[38;5;129;01mnot\u001b[39;00m \u001b[38;5;28misinstance\u001b[39m(value, \u001b[38;5;28mint\u001b[39m) \u001b[38;5;129;01mor\u001b[39;00m value \u001b[38;5;241m<\u001b[39m\u001b[38;5;241m=\u001b[39m \u001b[38;5;241m0\u001b[39m:\n\u001b[1;32m----> 7\u001b[0m         \u001b[38;5;28;01mraise\u001b[39;00m \u001b[38;5;167;01mValueError\u001b[39;00m(\u001b[38;5;124m\"\u001b[39m\u001b[38;5;124mValue must be a positive integer\u001b[39m\u001b[38;5;124m\"\u001b[39m)\n\u001b[0;32m      8\u001b[0m     instance\u001b[38;5;241m.\u001b[39m_value \u001b[38;5;241m=\u001b[39m value\n",
      "\u001b[1;31mValueError\u001b[0m: Value must be a positive integer"
     ]
    }
   ],
   "source": [
    "obj = MyClass()\n",
    "obj.attribute = 10\n",
    "print(obj.attribute)  # 10\n",
    "obj.attribute = -5  # ошибка"
   ]
  },
  {
   "cell_type": "code",
   "execution_count": 49,
   "id": "2e6adccb",
   "metadata": {},
   "outputs": [],
   "source": [
    "class RevealAccess(object): #дескриптор, устанавливает и возвращает значения, печатает что к атрибуту был доступ\n",
    "    def __init__(self, initval=None, name='var'):\n",
    "        self.val = initval\n",
    "        self.name = name\n",
    "    \n",
    "    def __get__(self, obj, objtype):\n",
    "        print('Получаю', self.name)\n",
    "        return self.val\n",
    "\n",
    "    def __set__(self, obj, val):\n",
    "        print('Обновляю' , self.name)\n",
    "        self.val = val\n",
    "\n",
    "class MyClass(object):\n",
    "    x = RevealAccess(10, 'var \"x\"')\n",
    "    y = 5"
   ]
  },
  {
   "cell_type": "code",
   "execution_count": 50,
   "id": "a83d7c4d",
   "metadata": {},
   "outputs": [
    {
     "name": "stdout",
     "output_type": "stream",
     "text": [
      "Получаю var \"x\"\n"
     ]
    },
    {
     "data": {
      "text/plain": [
       "10"
      ]
     },
     "execution_count": 50,
     "metadata": {},
     "output_type": "execute_result"
    }
   ],
   "source": [
    "m = MyClass()\n",
    "m.x"
   ]
  },
  {
   "cell_type": "code",
   "execution_count": 51,
   "id": "23e4d88f",
   "metadata": {},
   "outputs": [
    {
     "name": "stdout",
     "output_type": "stream",
     "text": [
      "Обновляю var \"x\"\n"
     ]
    }
   ],
   "source": [
    "m.x = 20"
   ]
  },
  {
   "cell_type": "code",
   "execution_count": 52,
   "id": "5a6fceff",
   "metadata": {},
   "outputs": [
    {
     "name": "stdout",
     "output_type": "stream",
     "text": [
      "Получаю var \"x\"\n"
     ]
    },
    {
     "data": {
      "text/plain": [
       "20"
      ]
     },
     "execution_count": 52,
     "metadata": {},
     "output_type": "execute_result"
    }
   ],
   "source": [
    "m.x"
   ]
  },
  {
   "cell_type": "code",
   "execution_count": 53,
   "id": "89d3c3ef",
   "metadata": {},
   "outputs": [
    {
     "data": {
      "text/plain": [
       "5"
      ]
     },
     "execution_count": 53,
     "metadata": {},
     "output_type": "execute_result"
    }
   ],
   "source": [
    "m.y"
   ]
  },
  {
   "cell_type": "code",
   "execution_count": 9,
   "id": "1f0dce05",
   "metadata": {},
   "outputs": [],
   "source": [
    "class StringToIntDescriptor:\n",
    "    def __get__(self, instance, owner):\n",
    "        if instance is None:\n",
    "            return self\n",
    "        return int(getattr(instance, '_value', 0))\n",
    "\n",
    "    def __set__(self, instance, value):\n",
    "        if not isinstance(value, str):\n",
    "            raise ValueError(\"Value must be a string\")\n",
    "        try:\n",
    "            setattr(instance, '_value', int(value))\n",
    "        except ValueError:\n",
    "            raise ValueError(\"Invalid string format. Cannot convert to int\")\n",
    "\n",
    "class MyClass:\n",
    "    attribute = StringToIntDescriptor()"
   ]
  },
  {
   "cell_type": "code",
   "execution_count": 13,
   "id": "c888c9b2",
   "metadata": {
    "scrolled": true
   },
   "outputs": [
    {
     "name": "stdout",
     "output_type": "stream",
     "text": [
      "42\n"
     ]
    }
   ],
   "source": [
    "obj = MyClass()\n",
    "obj.attribute = '42'\n",
    "print(obj.attribute)"
   ]
  },
  {
   "cell_type": "code",
   "execution_count": 14,
   "id": "e46f4a5b",
   "metadata": {},
   "outputs": [
    {
     "ename": "ValueError",
     "evalue": "Invalid string format. Cannot convert to int",
     "output_type": "error",
     "traceback": [
      "\u001b[1;31m---------------------------------------------------------------------------\u001b[0m",
      "\u001b[1;31mValueError\u001b[0m                                Traceback (most recent call last)",
      "Cell \u001b[1;32mIn[9], line 11\u001b[0m, in \u001b[0;36mStringToIntDescriptor.__set__\u001b[1;34m(self, instance, value)\u001b[0m\n\u001b[0;32m     10\u001b[0m \u001b[38;5;28;01mtry\u001b[39;00m:\n\u001b[1;32m---> 11\u001b[0m     \u001b[38;5;28msetattr\u001b[39m(instance, \u001b[38;5;124m'\u001b[39m\u001b[38;5;124m_value\u001b[39m\u001b[38;5;124m'\u001b[39m, \u001b[38;5;28;43mint\u001b[39;49m\u001b[43m(\u001b[49m\u001b[43mvalue\u001b[49m\u001b[43m)\u001b[49m)\n\u001b[0;32m     12\u001b[0m \u001b[38;5;28;01mexcept\u001b[39;00m \u001b[38;5;167;01mValueError\u001b[39;00m:\n",
      "\u001b[1;31mValueError\u001b[0m: invalid literal for int() with base 10: 'abc'",
      "\nDuring handling of the above exception, another exception occurred:\n",
      "\u001b[1;31mValueError\u001b[0m                                Traceback (most recent call last)",
      "Cell \u001b[1;32mIn[14], line 1\u001b[0m\n\u001b[1;32m----> 1\u001b[0m \u001b[43mobj\u001b[49m\u001b[38;5;241;43m.\u001b[39;49m\u001b[43mattribute\u001b[49m \u001b[38;5;241m=\u001b[39m \u001b[38;5;124m'\u001b[39m\u001b[38;5;124mabc\u001b[39m\u001b[38;5;124m'\u001b[39m\n",
      "Cell \u001b[1;32mIn[9], line 13\u001b[0m, in \u001b[0;36mStringToIntDescriptor.__set__\u001b[1;34m(self, instance, value)\u001b[0m\n\u001b[0;32m     11\u001b[0m     \u001b[38;5;28msetattr\u001b[39m(instance, \u001b[38;5;124m'\u001b[39m\u001b[38;5;124m_value\u001b[39m\u001b[38;5;124m'\u001b[39m, \u001b[38;5;28mint\u001b[39m(value))\n\u001b[0;32m     12\u001b[0m \u001b[38;5;28;01mexcept\u001b[39;00m \u001b[38;5;167;01mValueError\u001b[39;00m:\n\u001b[1;32m---> 13\u001b[0m     \u001b[38;5;28;01mraise\u001b[39;00m \u001b[38;5;167;01mValueError\u001b[39;00m(\u001b[38;5;124m\"\u001b[39m\u001b[38;5;124mInvalid string format. Cannot convert to int\u001b[39m\u001b[38;5;124m\"\u001b[39m)\n",
      "\u001b[1;31mValueError\u001b[0m: Invalid string format. Cannot convert to int"
     ]
    }
   ],
   "source": [
    "obj.attribute = 'abc'"
   ]
  },
  {
   "cell_type": "code",
   "execution_count": null,
   "id": "74b2bcde",
   "metadata": {},
   "outputs": [],
   "source": []
  }
 ],
 "metadata": {
  "kernelspec": {
   "display_name": "Python 3 (ipykernel)",
   "language": "python",
   "name": "python3"
  },
  "language_info": {
   "codemirror_mode": {
    "name": "ipython",
    "version": 3
   },
   "file_extension": ".py",
   "mimetype": "text/x-python",
   "name": "python",
   "nbconvert_exporter": "python",
   "pygments_lexer": "ipython3",
   "version": "3.11.1"
  }
 },
 "nbformat": 4,
 "nbformat_minor": 5
}
